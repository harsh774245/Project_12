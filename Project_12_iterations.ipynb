{
 "cells": [
  {
   "cell_type": "code",
   "execution_count": 4,
   "metadata": {},
   "outputs": [
    {
     "data": {
      "application/javascript": [
       "\n",
       "        if (window._pyforest_update_imports_cell) { window._pyforest_update_imports_cell('import pandas as pd'); }\n",
       "    "
      ],
      "text/plain": [
       "<IPython.core.display.Javascript object>"
      ]
     },
     "metadata": {},
     "output_type": "display_data"
    },
    {
     "data": {
      "application/javascript": [
       "\n",
       "        if (window._pyforest_update_imports_cell) { window._pyforest_update_imports_cell('import pandas as pd'); }\n",
       "    "
      ],
      "text/plain": [
       "<IPython.core.display.Javascript object>"
      ]
     },
     "metadata": {},
     "output_type": "display_data"
    },
    {
     "data": {
      "application/javascript": [
       "\n",
       "        if (window._pyforest_update_imports_cell) { window._pyforest_update_imports_cell('import pandas as pd'); }\n",
       "    "
      ],
      "text/plain": [
       "<IPython.core.display.Javascript object>"
      ]
     },
     "metadata": {},
     "output_type": "display_data"
    }
   ],
   "source": [
    "import pyforest\n",
    "import warnings\n",
    "warnings.filterwarnings('ignore')\n",
    "pd.set_option('display.max_rows', 1000)\n",
    "pd.set_option('display.max_columns', 100)\n",
    "pd.set_option('display.width',1000)"
   ]
  },
  {
   "cell_type": "code",
   "execution_count": 15,
   "metadata": {},
   "outputs": [
    {
     "data": {
      "application/javascript": [
       "\n",
       "        if (window._pyforest_update_imports_cell) { window._pyforest_update_imports_cell('import numpy as np\\nimport pandas as pd'); }\n",
       "    "
      ],
      "text/plain": [
       "<IPython.core.display.Javascript object>"
      ]
     },
     "metadata": {},
     "output_type": "display_data"
    }
   ],
   "source": [
    "loan=pd.read_csv('loan.csv')"
   ]
  },
  {
   "cell_type": "code",
   "execution_count": 16,
   "metadata": {},
   "outputs": [],
   "source": [
    "loan1=loan.copy()\n",
    "# impute gender with most freq category\n",
    "loan1['Gender']=loan1['Gender'].fillna('Male')\n",
    "# impute gender with most freq category\n",
    "loan1['Dependents']=loan1['Dependents'].fillna('0')\n",
    "# impute gender with most freq category\n",
    "loan1['Self_Employed']=loan1['Self_Employed'].fillna('No')\n",
    "# as the distribution is skewed, we'll do for median imputation\n",
    "loan1['LoanAmount']=loan1['LoanAmount'].fillna(loan1['LoanAmount'].median())\n",
    "# we'll do for mean imputation\n",
    "loan1['Loan_Amount_Term']=loan1['Loan_Amount_Term'].fillna(loan1['Loan_Amount_Term'].mean())\n",
    "# impute gender with most freq category\n",
    "loan1['Credit_History']=loan1['Credit_History'].fillna(1.0)\n",
    "# impute gender with most freq category\n",
    "loan1['Married']=loan1['Married'].fillna('Yes')\n",
    "# drop loanid\n",
    "loan1.drop('Loan_ID',axis=1,inplace=True)"
   ]
  },
  {
   "cell_type": "code",
   "execution_count": 17,
   "metadata": {},
   "outputs": [],
   "source": [
    "from sklearn.preprocessing import LabelEncoder\n",
    "def le(df,col):\n",
    "    lab=LabelEncoder()\n",
    "    df[col]=pd.Series(lab.fit_transform(df[col]))"
   ]
  },
  {
   "cell_type": "code",
   "execution_count": 18,
   "metadata": {},
   "outputs": [
    {
     "data": {
      "application/javascript": [
       "\n",
       "        if (window._pyforest_update_imports_cell) { window._pyforest_update_imports_cell('import numpy as np\\nimport pandas as pd'); }\n",
       "    "
      ],
      "text/plain": [
       "<IPython.core.display.Javascript object>"
      ]
     },
     "metadata": {},
     "output_type": "display_data"
    },
    {
     "data": {
      "application/javascript": [
       "\n",
       "        if (window._pyforest_update_imports_cell) { window._pyforest_update_imports_cell('import numpy as np\\nimport pandas as pd'); }\n",
       "    "
      ],
      "text/plain": [
       "<IPython.core.display.Javascript object>"
      ]
     },
     "metadata": {},
     "output_type": "display_data"
    },
    {
     "data": {
      "application/javascript": [
       "\n",
       "        if (window._pyforest_update_imports_cell) { window._pyforest_update_imports_cell('import numpy as np\\nimport pandas as pd'); }\n",
       "    "
      ],
      "text/plain": [
       "<IPython.core.display.Javascript object>"
      ]
     },
     "metadata": {},
     "output_type": "display_data"
    },
    {
     "data": {
      "application/javascript": [
       "\n",
       "        if (window._pyforest_update_imports_cell) { window._pyforest_update_imports_cell('import numpy as np\\nimport pandas as pd'); }\n",
       "    "
      ],
      "text/plain": [
       "<IPython.core.display.Javascript object>"
      ]
     },
     "metadata": {},
     "output_type": "display_data"
    },
    {
     "data": {
      "application/javascript": [
       "\n",
       "        if (window._pyforest_update_imports_cell) { window._pyforest_update_imports_cell('import numpy as np\\nimport pandas as pd'); }\n",
       "    "
      ],
      "text/plain": [
       "<IPython.core.display.Javascript object>"
      ]
     },
     "metadata": {},
     "output_type": "display_data"
    },
    {
     "data": {
      "application/javascript": [
       "\n",
       "        if (window._pyforest_update_imports_cell) { window._pyforest_update_imports_cell('import numpy as np\\nimport pandas as pd'); }\n",
       "    "
      ],
      "text/plain": [
       "<IPython.core.display.Javascript object>"
      ]
     },
     "metadata": {},
     "output_type": "display_data"
    },
    {
     "data": {
      "application/javascript": [
       "\n",
       "        if (window._pyforest_update_imports_cell) { window._pyforest_update_imports_cell('import numpy as np\\nimport pandas as pd'); }\n",
       "    "
      ],
      "text/plain": [
       "<IPython.core.display.Javascript object>"
      ]
     },
     "metadata": {},
     "output_type": "display_data"
    }
   ],
   "source": [
    "le(loan1,'Gender')\n",
    "le(loan1,'Married')\n",
    "le(loan1,'Dependents')\n",
    "le(loan1,'Education')\n",
    "le(loan1,'Self_Employed')\n",
    "le(loan1,'Property_Area')\n",
    "le(loan1,'Loan_Status')"
   ]
  },
  {
   "cell_type": "code",
   "execution_count": 19,
   "metadata": {},
   "outputs": [
    {
     "data": {
      "application/javascript": [
       "\n",
       "        if (window._pyforest_update_imports_cell) { window._pyforest_update_imports_cell('import numpy as np\\nimport pandas as pd'); }\n",
       "    "
      ],
      "text/plain": [
       "<IPython.core.display.Javascript object>"
      ]
     },
     "metadata": {},
     "output_type": "display_data"
    }
   ],
   "source": [
    "from scipy.stats import zscore\n",
    "z=np.abs(zscore(loan1))\n",
    "loan1=loan1[(z<3).all(axis=1)]\n",
    "\n",
    "x=loan1.drop('Loan_Status',axis=1)\n",
    "y=loan1['Loan_Status']"
   ]
  },
  {
   "cell_type": "code",
   "execution_count": 20,
   "metadata": {},
   "outputs": [],
   "source": [
    "from sklearn.linear_model import LogisticRegression\n",
    "from sklearn.tree import DecisionTreeClassifier\n",
    "from sklearn.svm import SVC\n",
    "from sklearn.neighbors import KNeighborsClassifier\n",
    "from sklearn.naive_bayes import GaussianNB, MultinomialNB\n",
    "from sklearn.model_selection import train_test_split\n",
    "from sklearn.metrics import accuracy_score, confusion_matrix, classification_report\n",
    "from sklearn.ensemble import RandomForestClassifier\n",
    "from sklearn.ensemble import GradientBoostingClassifier\n",
    "from xgboost import XGBClassifier\n",
    "from sklearn.ensemble import AdaBoostClassifier\n",
    "from sklearn.model_selection import cross_val_score,cross_val_predict,cross_validate\n",
    "\n",
    "# Now, let's define some functions to reuse them\n",
    "def fitc(m,x,y,rs=45):\n",
    "    x_train, x_test, y_train, y_test=train_test_split(x,y,test_size=0.25,random_state=rs,stratify=y)\n",
    "    m.fit(x_train,y_train)\n",
    "    \n",
    "def get_scorec(m,x,y,rs=45):\n",
    "    x_train, x_test, y_train, y_test=train_test_split(x,y,test_size=0.25,random_state=rs,stratify=y)\n",
    "    m.fit(x_train,y_train)\n",
    "    train_score=m.score(x_train,y_train)\n",
    "    pred=m.predict(x_test)\n",
    "    test_score=accuracy_score(pred,y_test)\n",
    "    return train_score,test_score\n",
    "\n",
    "def get_predc(m,x,y,rs=45):\n",
    "    x_train, x_test, y_train, y_test=train_test_split(x,y,test_size=0.25,random_state=rs,stratify=y)\n",
    "    m.fit(x_train,y_train)\n",
    "    pred=m.predict(x_test)\n",
    "    return pred\n",
    "\n",
    "def get_metricsc(m,x,y,rs=45):\n",
    "    x_train, x_test, y_train, y_test=train_test_split(x,y,test_size=0.25,random_state=rs,stratify=y)\n",
    "    m.fit(x_train,y_train)\n",
    "    pred=m.predict(x_test)\n",
    "    acc=accuracy_score(pred,y_test)\n",
    "    conf=confusion_matrix(pred,y_test)\n",
    "    clas=classification_report(pred,y_test)\n",
    "    return acc,conf,clas\n",
    "\n",
    "from sklearn.model_selection import GridSearchCV\n",
    "def gridcvc(m,p,x,y):\n",
    "    gkb=GridSearchCV(m,p,n_jobs=-1,cv=5,scoring='accuracy')\n",
    "    gkb.fit(x,y)\n",
    "    return gkb.best_params_\n",
    "\n",
    "\n",
    "from sklearn.model_selection import RandomizedSearchCV\n",
    "def randomcvc(m,p,x,y):\n",
    "    from sklearn.model_selection import RandomizedSearchCV\n",
    "    gkb=RandomizedSearchCV(estimator=m,param_distributions=p,\n",
    "                          cv=3,n_iter=50,\n",
    "                          n_jobs=-1, verbose=5,return_train_score=True,random_state=45)\n",
    "    gkb.fit(x,y)\n",
    "    return gkb.best_params_\n",
    "\n",
    "from mlxtend.feature_selection import SequentialFeatureSelector as sfs\n",
    "def bfec(m,x,y,k):\n",
    "    sf=sfs(m, k_features=k, forward=False, cv=5, n_jobs=-1)\n",
    "    sf.fit(x,y)\n",
    "    feat_names=list(sf.k_feature_names_)\n",
    "    xbfe=x[feat_names]\n",
    "    return xbfe\n",
    "\n",
    "def ffsc(m,x,y,k):\n",
    "    sf=sfs(m, k_features=k, forward=True, cv=5, n_jobs=-1)\n",
    "    sf.fit(x,y)\n",
    "    feat_names=list(sf.k_feature_names_)\n",
    "    xffs=x[feat_names]\n",
    "    return xffs\n",
    "\n",
    "from sklearn.decomposition import PCA\n",
    "def nforpcac(x):\n",
    "    pca=PCA().fit(x)\n",
    "    plt.figure()\n",
    "    plt.plot(np.cumsum(pca.explained_variance_ratio_)*100)\n",
    "    plt.xlabel('No of Components')\n",
    "    plt.ylabel('Variance')\n",
    "    plt.axhline(y=95, color='r', linestyle='--')\n",
    "    plt.show()\n",
    "    \n",
    "def pcac(m,x,n):\n",
    "    pca=PCA(n_components=n)\n",
    "    xpca=pd.DataFrame(pca.fit_transform(x))\n",
    "    return xpca\n",
    "\n",
    "def crossc(m,x,y,c=5):\n",
    "    score=cross_val_score(m,x,y,cv=c,n_jobs=-1)\n",
    "    return (score.mean(), score.std())\n",
    "\n",
    "from sklearn.preprocessing import StandardScaler\n",
    "def stdc(x):\n",
    "    scx=StandardScaler()\n",
    "    xs=pd.DataFrame(scx.fit_transform(x), columns=x.columns)\n",
    "    return xs\n",
    "\n",
    "from sklearn.preprocessing import MinMaxScaler\n",
    "def mmc(x):\n",
    "    mm=MinMaxScaler()\n",
    "    xm=pd.DataFrame(mm.fit_transform(x), columns=x.columns)\n",
    "    return xm\n",
    "\n",
    "def modified_bfec(m,x,y,k):\n",
    "    sf=sfs(m, k_features=k, forward=False, cv=5, n_jobs=-1)\n",
    "    sf.fit(x,y)\n",
    "    feat_names=list(sf.k_feature_names_)\n",
    "    xbfe=x[feat_names]\n",
    "    x_train, x_test, y_train, y_test=train_test_split(xbfe,y,test_size=0.25,random_state=45,stratify=y)\n",
    "    m.fit(x_train,y_train)\n",
    "    pred=m.predict(x_test)\n",
    "    test_score=accuracy_score(pred,y_test)\n",
    "    return test_score\n",
    "\n",
    "def modified_ffsc(m,x,y,k):\n",
    "    sf=sfs(m, k_features=k, forward=True, cv=5, n_jobs=-1)\n",
    "    sf.fit(x,y)\n",
    "    feat_names=list(sf.k_feature_names_)\n",
    "    xffs=x[feat_names]\n",
    "    x_train, x_test, y_train, y_test=train_test_split(xffs,y,test_size=0.25,random_state=45,stratify=y)\n",
    "    m.fit(x_train,y_train)\n",
    "    pred=m.predict(x_test)\n",
    "    test_score=accuracy_score(pred,y_test)\n",
    "    return test_score\n",
    "\n",
    "def modified_pcac(m,x,y,n):\n",
    "    pca=PCA(n_components=n)\n",
    "    xpca=pd.DataFrame(pca.fit_transform(x))\n",
    "    x_train, x_test, y_train, y_test=train_test_split(xpca,y,test_size=0.25,random_state=45,stratify=y)\n",
    "    m.fit(x_train,y_train)\n",
    "    pred=m.predict(x_test)\n",
    "    test_score=accuracy_score(pred,y_test)\n",
    "    return test_score\n",
    "\n",
    "def ttsc(x,y,rs=45):\n",
    "    x_train, x_test, y_train, y_test=train_test_split(x,y,test_size=0.25,random_state=rs,stratify=y)\n",
    "    return x_train, x_test, y_train, y_test\n",
    "\n",
    "def classification(m,x,y,rs=45):\n",
    "    x_train, x_test, y_train, y_test=train_test_split(x,y,test_size=0.25,random_state=rs,stratify=y)\n",
    "    m.fit(x_train,y_train)\n",
    "    pred=m.predict(x_test)\n",
    "    clas=classification_report(pred,y_test)\n",
    "    return clas\n",
    "\n",
    "lrc=LogisticRegression(n_jobs=-1,random_state=45)\n",
    "dtc=DecisionTreeClassifier(random_state=45)\n",
    "svc=SVC(random_state=45)\n",
    "knnc=KNeighborsClassifier(n_jobs=-1)\n",
    "rfc=RandomForestClassifier(n_jobs=-1,random_state=45)\n",
    "gbc=GradientBoostingClassifier(random_state=45)\n",
    "xgbc=XGBClassifier(n_jobs=-1,random_state=45)\n",
    "adac=AdaBoostClassifier(random_state=45)\n",
    "gnb=GaussianNB()\n",
    "mnb=MultinomialNB()"
   ]
  },
  {
   "cell_type": "markdown",
   "metadata": {},
   "source": [
    "# Iteration 1 "
   ]
  },
  {
   "cell_type": "code",
   "execution_count": 21,
   "metadata": {},
   "outputs": [],
   "source": [
    "# lets check the scores of all models on the data"
   ]
  },
  {
   "cell_type": "code",
   "execution_count": 22,
   "metadata": {},
   "outputs": [
    {
     "name": "stdout",
     "output_type": "stream",
     "text": [
      "LR  (0.8194444444444444, 0.8137931034482758)\n",
      "DT  (1.0, 0.6896551724137931)\n",
      "SVC  (0.9976851851851852, 0.6896551724137931)\n",
      "KNN  (0.7222222222222222, 0.6551724137931034)\n",
      "GNB  (0.8101851851851852, 0.7931034482758621)\n",
      "MNB  (0.5092592592592593, 0.5724137931034483)\n",
      "RF  (0.9861111111111112, 0.7448275862068966)\n",
      "GB  (0.9050925925925926, 0.7931034482758621)\n",
      "XGB  (1.0, 0.7862068965517242)\n"
     ]
    }
   ],
   "source": [
    "print(\"LR \", get_scorec(lrc,x,y))\n",
    "print(\"DT \", get_scorec(dtc,x,y))\n",
    "print(\"SVC \", get_scorec(svc,x,y))\n",
    "print(\"KNN \", get_scorec(knnc,x,y))\n",
    "print(\"GNB \", get_scorec(gnb,x,y))\n",
    "print(\"MNB \", get_scorec(mnb,x,y))\n",
    "print(\"RF \", get_scorec(rfc,x,y))\n",
    "print(\"GB \", get_scorec(gbc,x,y))\n",
    "print(\"XGB \", get_scorec(xgbc,x,y))"
   ]
  },
  {
   "cell_type": "code",
   "execution_count": 23,
   "metadata": {},
   "outputs": [],
   "source": [
    "# models are over fitting"
   ]
  },
  {
   "cell_type": "markdown",
   "metadata": {},
   "source": [
    "# Iteration 2"
   ]
  },
  {
   "cell_type": "code",
   "execution_count": 24,
   "metadata": {},
   "outputs": [
    {
     "data": {
      "application/javascript": [
       "\n",
       "        if (window._pyforest_update_imports_cell) { window._pyforest_update_imports_cell('import numpy as np\\nimport pandas as pd'); }\n",
       "    "
      ],
      "text/plain": [
       "<IPython.core.display.Javascript object>"
      ]
     },
     "metadata": {},
     "output_type": "display_data"
    }
   ],
   "source": [
    "xs=stdc(x)"
   ]
  },
  {
   "cell_type": "code",
   "execution_count": 26,
   "metadata": {},
   "outputs": [
    {
     "name": "stdout",
     "output_type": "stream",
     "text": [
      "LR  (0.8194444444444444, 0.8137931034482758)\n",
      "DT  (1.0, 0.6896551724137931)\n",
      "SVC  (0.8356481481481481, 0.8137931034482758)\n",
      "KNN  (0.8379629629629629, 0.7931034482758621)\n",
      "GNB  (0.8171296296296297, 0.8)\n",
      "RF  (0.9861111111111112, 0.7448275862068966)\n",
      "GB  (0.9050925925925926, 0.7931034482758621)\n",
      "XGB  (1.0, 0.7862068965517242)\n"
     ]
    }
   ],
   "source": [
    "print(\"LR \", get_scorec(lrc,xs,y))\n",
    "print(\"DT \", get_scorec(dtc,xs,y))\n",
    "print(\"SVC \", get_scorec(svc,xs,y))\n",
    "print(\"KNN \", get_scorec(knnc,xs,y))\n",
    "print(\"GNB \", get_scorec(gnb,xs,y))\n",
    "# print(\"MNB \", get_scorec(mnb,xs,y))\n",
    "print(\"RF \", get_scorec(rfc,xs,y))\n",
    "print(\"GB \", get_scorec(gbc,xs,y))\n",
    "print(\"XGB \", get_scorec(xgbc,xs,y))"
   ]
  },
  {
   "cell_type": "markdown",
   "metadata": {},
   "source": [
    "# Iteration 3"
   ]
  },
  {
   "cell_type": "code",
   "execution_count": 27,
   "metadata": {},
   "outputs": [],
   "source": [
    "# lets remove skewness"
   ]
  },
  {
   "cell_type": "code",
   "execution_count": 28,
   "metadata": {},
   "outputs": [
    {
     "data": {
      "text/plain": [
       "Gender              -1.622920\n",
       "Married             -0.630211\n",
       "Dependents           1.052106\n",
       "Education            1.306588\n",
       "Self_Employed        2.252848\n",
       "ApplicantIncome      2.148522\n",
       "CoapplicantIncome    1.350517\n",
       "LoanAmount           1.151525\n",
       "Loan_Amount_Term    -2.077031\n",
       "Credit_History      -1.976043\n",
       "Property_Area       -0.055332\n",
       "dtype: float64"
      ]
     },
     "execution_count": 28,
     "metadata": {},
     "output_type": "execute_result"
    }
   ],
   "source": [
    "x.skew()"
   ]
  },
  {
   "cell_type": "code",
   "execution_count": 29,
   "metadata": {},
   "outputs": [],
   "source": [
    "x_sk=x.copy()"
   ]
  },
  {
   "cell_type": "code",
   "execution_count": 34,
   "metadata": {},
   "outputs": [
    {
     "data": {
      "application/javascript": [
       "\n",
       "        if (window._pyforest_update_imports_cell) { window._pyforest_update_imports_cell('import numpy as np\\nimport pandas as pd'); }\n",
       "    "
      ],
      "text/plain": [
       "<IPython.core.display.Javascript object>"
      ]
     },
     "metadata": {},
     "output_type": "display_data"
    }
   ],
   "source": [
    "# x_sk['ApplicantIncome'].min(), x_sk['ApplicantIncome'].max()\n",
    "x_sk['ApplicantIncome']=np.log(x_sk['ApplicantIncome'])\n",
    "# skewness reduced to -0.20"
   ]
  },
  {
   "cell_type": "code",
   "execution_count": 37,
   "metadata": {},
   "outputs": [
    {
     "data": {
      "application/javascript": [
       "\n",
       "        if (window._pyforest_update_imports_cell) { window._pyforest_update_imports_cell('import numpy as np\\nimport pandas as pd'); }\n",
       "    "
      ],
      "text/plain": [
       "<IPython.core.display.Javascript object>"
      ]
     },
     "metadata": {},
     "output_type": "display_data"
    }
   ],
   "source": [
    "# x_sk['CoapplicantIncome'].min(), x_sk['CoapplicantIncome'].max()\n",
    "x_sk['CoapplicantIncome']=np.cbrt(x_sk['CoapplicantIncome'])\n",
    "# skewness reduced to -0.03"
   ]
  },
  {
   "cell_type": "code",
   "execution_count": 41,
   "metadata": {},
   "outputs": [
    {
     "data": {
      "application/javascript": [
       "\n",
       "        if (window._pyforest_update_imports_cell) { window._pyforest_update_imports_cell('import numpy as np\\nimport pandas as pd'); }\n",
       "    "
      ],
      "text/plain": [
       "<IPython.core.display.Javascript object>"
      ]
     },
     "metadata": {},
     "output_type": "display_data"
    }
   ],
   "source": [
    "# x_sk['LoanAmount'].min(), x_sk['LoanAmount'].max()\n",
    "x_sk['LoanAmount']=np.cbrt(x_sk['LoanAmount'])\n",
    "# skewness reduced to 0.05"
   ]
  },
  {
   "cell_type": "code",
   "execution_count": 52,
   "metadata": {},
   "outputs": [
    {
     "data": {
      "application/javascript": [
       "\n",
       "        if (window._pyforest_update_imports_cell) { window._pyforest_update_imports_cell('import numpy as np\\nimport pandas as pd'); }\n",
       "    "
      ],
      "text/plain": [
       "<IPython.core.display.Javascript object>"
      ]
     },
     "metadata": {},
     "output_type": "display_data"
    }
   ],
   "source": [
    "# x_sk['Loan_Amount_Term'].min(), x_sk['Loan_Amount_Term'].max()\n",
    "x_sk['Loan_Amount_Term']=np.power(x_sk['Loan_Amount_Term'],2.5)\n",
    "# skewness reduced to 0.05"
   ]
  },
  {
   "cell_type": "code",
   "execution_count": 57,
   "metadata": {},
   "outputs": [
    {
     "data": {
      "application/javascript": [
       "\n",
       "        if (window._pyforest_update_imports_cell) { window._pyforest_update_imports_cell('import numpy as np\\nimport pandas as pd'); }\n",
       "    "
      ],
      "text/plain": [
       "<IPython.core.display.Javascript object>"
      ]
     },
     "metadata": {},
     "output_type": "display_data"
    },
    {
     "data": {
      "text/plain": [
       "-1.976042837301836"
      ]
     },
     "execution_count": 57,
     "metadata": {},
     "output_type": "execute_result"
    }
   ],
   "source": [
    "x_sk['Credit_History'].min(), x_sk['Credit_History'].max()\n",
    "np.power(x_sk['Credit_History'],3).skew()\n",
    "# skewness remained"
   ]
  },
  {
   "cell_type": "code",
   "execution_count": 58,
   "metadata": {},
   "outputs": [
    {
     "data": {
      "text/plain": [
       "(0, 1)"
      ]
     },
     "execution_count": 58,
     "metadata": {},
     "output_type": "execute_result"
    }
   ],
   "source": [
    "x_sk['Self_Employed'].min(), x_sk['Self_Employed'].max()\n",
    "# x_sk['Self_Employed']=np.power(x_sk['Self_Employed'],2.5)\n",
    "# skewness reduced to 0.05"
   ]
  },
  {
   "cell_type": "code",
   "execution_count": 59,
   "metadata": {},
   "outputs": [
    {
     "data": {
      "text/plain": [
       "(0, 1)"
      ]
     },
     "execution_count": 59,
     "metadata": {},
     "output_type": "execute_result"
    }
   ],
   "source": [
    "x_sk['Education'].min(), x_sk['Education'].max()\n",
    "# x_sk['Education']=np.power(x_sk['Education'],2.5)\n",
    "# skewness reduced to 0.05"
   ]
  },
  {
   "cell_type": "code",
   "execution_count": 67,
   "metadata": {},
   "outputs": [
    {
     "data": {
      "application/javascript": [
       "\n",
       "        if (window._pyforest_update_imports_cell) { window._pyforest_update_imports_cell('import numpy as np\\nimport pandas as pd'); }\n",
       "    "
      ],
      "text/plain": [
       "<IPython.core.display.Javascript object>"
      ]
     },
     "metadata": {},
     "output_type": "display_data"
    }
   ],
   "source": [
    "# x_sk['Dependents'].min(), x_sk['Dependents'].max()\n",
    "x_sk['Dependents']=np.power(x_sk['Dependents'],1/5)\n",
    "# skewness reduced to 0.43"
   ]
  },
  {
   "cell_type": "code",
   "execution_count": 68,
   "metadata": {},
   "outputs": [
    {
     "data": {
      "text/plain": [
       "Gender              -1.622920\n",
       "Married             -0.630211\n",
       "Dependents           0.437276\n",
       "Education            1.306588\n",
       "Self_Employed        2.252848\n",
       "ApplicantIncome     -0.207967\n",
       "CoapplicantIncome   -0.038951\n",
       "LoanAmount           0.054080\n",
       "Loan_Amount_Term    -0.125508\n",
       "Credit_History      -1.976043\n",
       "Property_Area       -0.055332\n",
       "dtype: float64"
      ]
     },
     "execution_count": 68,
     "metadata": {},
     "output_type": "execute_result"
    }
   ],
   "source": [
    "x_sk.skew()"
   ]
  },
  {
   "cell_type": "code",
   "execution_count": 69,
   "metadata": {},
   "outputs": [
    {
     "name": "stdout",
     "output_type": "stream",
     "text": [
      "LR  (0.6898148148148148, 0.6896551724137931)\n",
      "DT  (1.0, 0.696551724137931)\n",
      "SVC  (0.8240740740740741, 0.7724137931034483)\n",
      "KNN  (0.7870370370370371, 0.7103448275862069)\n",
      "GNB  (0.6759259259259259, 0.6551724137931034)\n",
      "MNB  (0.7407407407407407, 0.7310344827586207)\n",
      "RF  (0.9861111111111112, 0.7379310344827587)\n",
      "GB  (0.9050925925925926, 0.7931034482758621)\n",
      "XGB  (1.0, 0.7862068965517242)\n"
     ]
    }
   ],
   "source": [
    "print(\"LR \", get_scorec(lrc,x_sk,y))\n",
    "print(\"DT \", get_scorec(dtc,x_sk,y))\n",
    "print(\"SVC \", get_scorec(svc,x_sk,y))\n",
    "print(\"KNN \", get_scorec(knnc,x_sk,y))\n",
    "print(\"GNB \", get_scorec(gnb,x_sk,y))\n",
    "print(\"MNB \", get_scorec(mnb,x_sk,y))\n",
    "print(\"RF \", get_scorec(rfc,x_sk,y))\n",
    "print(\"GB \", get_scorec(gbc,x_sk,y))\n",
    "print(\"XGB \", get_scorec(xgbc,x_sk,y))"
   ]
  },
  {
   "cell_type": "markdown",
   "metadata": {},
   "source": [
    "# Iteration 4"
   ]
  },
  {
   "cell_type": "code",
   "execution_count": 70,
   "metadata": {},
   "outputs": [
    {
     "data": {
      "application/javascript": [
       "\n",
       "        if (window._pyforest_update_imports_cell) { window._pyforest_update_imports_cell('import numpy as np\\nimport pandas as pd'); }\n",
       "    "
      ],
      "text/plain": [
       "<IPython.core.display.Javascript object>"
      ]
     },
     "metadata": {},
     "output_type": "display_data"
    }
   ],
   "source": [
    "xs_sk=stdc(x_sk)"
   ]
  },
  {
   "cell_type": "code",
   "execution_count": 71,
   "metadata": {},
   "outputs": [
    {
     "name": "stdout",
     "output_type": "stream",
     "text": [
      "LR  (0.8194444444444444, 0.8137931034482758)\n",
      "DT  (1.0, 0.696551724137931)\n",
      "SVC  (0.8287037037037037, 0.8206896551724138)\n",
      "KNN  (0.8240740740740741, 0.7793103448275862)\n",
      "GNB  (0.8171296296296297, 0.8)\n",
      "RF  (0.9861111111111112, 0.7379310344827587)\n",
      "GB  (0.9050925925925926, 0.7931034482758621)\n",
      "XGB  (1.0, 0.7862068965517242)\n"
     ]
    }
   ],
   "source": [
    "print(\"LR \", get_scorec(lrc,xs_sk,y))\n",
    "print(\"DT \", get_scorec(dtc,xs_sk,y))\n",
    "print(\"SVC \", get_scorec(svc,xs_sk,y))\n",
    "print(\"KNN \", get_scorec(knnc,xs_sk,y))\n",
    "print(\"GNB \", get_scorec(gnb,xs_sk,y))\n",
    "# print(\"MNB \", get_scorec(mnb,xs_sk,y))\n",
    "print(\"RF \", get_scorec(rfc,xs_sk,y))\n",
    "print(\"GB \", get_scorec(gbc,xs_sk,y))\n",
    "print(\"XGB \", get_scorec(xgbc,xs_sk,y))"
   ]
  },
  {
   "cell_type": "markdown",
   "metadata": {},
   "source": [
    "# Conclusion"
   ]
  },
  {
   "cell_type": "code",
   "execution_count": 72,
   "metadata": {},
   "outputs": [],
   "source": [
    "# LR with xs_sk 0.8194444444444444, 0.8137931034482758\n",
    "# SVC with xs_sk 0.8287037037037037, 0.8206896551724138\n",
    "# GNB with xs_sk 0.8171296296296297, 0.8\n",
    "# GB with x 0.9050925925925926, 0.7931034482758621"
   ]
  },
  {
   "cell_type": "code",
   "execution_count": null,
   "metadata": {},
   "outputs": [],
   "source": []
  }
 ],
 "metadata": {
  "kernelspec": {
   "display_name": "Python 3",
   "language": "python",
   "name": "python3"
  },
  "language_info": {
   "codemirror_mode": {
    "name": "ipython",
    "version": 3
   },
   "file_extension": ".py",
   "mimetype": "text/x-python",
   "name": "python",
   "nbconvert_exporter": "python",
   "pygments_lexer": "ipython3",
   "version": "3.7.4"
  }
 },
 "nbformat": 4,
 "nbformat_minor": 2
}
