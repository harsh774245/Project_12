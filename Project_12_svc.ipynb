{
 "cells": [
  {
   "cell_type": "code",
   "execution_count": 1,
   "metadata": {},
   "outputs": [],
   "source": [
    "import numpy as np\n",
    "import pandas as pd\n",
    "import seaborn as sns \n",
    "import matplotlib.pyplot as plt\n",
    "%matplotlib inline\n",
    "import scipy.stats as st\n",
    "import pyforest\n",
    "import warnings\n",
    "warnings.filterwarnings('ignore')\n",
    "pd.set_option('display.max_rows', 1000)\n",
    "pd.set_option('display.max_columns', 100)\n",
    "pd.set_option('display.width',1000)"
   ]
  },
  {
   "cell_type": "code",
   "execution_count": 2,
   "metadata": {},
   "outputs": [],
   "source": [
    "loan=pd.read_csv('loan.csv')\n",
    "loan1=loan.copy()\n",
    "# impute gender with most freq category\n",
    "loan1['Gender']=loan1['Gender'].fillna('Male')\n",
    "# impute gender with most freq category\n",
    "loan1['Dependents']=loan1['Dependents'].fillna('0')\n",
    "# impute gender with most freq category\n",
    "loan1['Self_Employed']=loan1['Self_Employed'].fillna('No')\n",
    "# as the distribution is skewed, we'll do for median imputation\n",
    "loan1['LoanAmount']=loan1['LoanAmount'].fillna(loan1['LoanAmount'].median())\n",
    "# we'll do for mean imputation\n",
    "loan1['Loan_Amount_Term']=loan1['Loan_Amount_Term'].fillna(loan1['Loan_Amount_Term'].mean())\n",
    "# impute gender with most freq category\n",
    "loan1['Credit_History']=loan1['Credit_History'].fillna(1.0)\n",
    "# impute gender with most freq category\n",
    "loan1['Married']=loan1['Married'].fillna('Yes')\n",
    "# drop loanid\n",
    "loan1.drop('Loan_ID',axis=1,inplace=True)"
   ]
  },
  {
   "cell_type": "code",
   "execution_count": 3,
   "metadata": {},
   "outputs": [],
   "source": [
    "from sklearn.preprocessing import LabelEncoder\n",
    "def le(df,col):\n",
    "    lab=LabelEncoder()\n",
    "    df[col]=pd.Series(lab.fit_transform(df[col]))"
   ]
  },
  {
   "cell_type": "code",
   "execution_count": 4,
   "metadata": {},
   "outputs": [],
   "source": [
    "le(loan1,'Gender')\n",
    "le(loan1,'Married')\n",
    "le(loan1,'Dependents')\n",
    "le(loan1,'Education')\n",
    "le(loan1,'Self_Employed')\n",
    "le(loan1,'Property_Area')\n",
    "le(loan1,'Loan_Status')"
   ]
  },
  {
   "cell_type": "code",
   "execution_count": 5,
   "metadata": {},
   "outputs": [],
   "source": [
    "from scipy.stats import zscore\n",
    "z=np.abs(zscore(loan1))\n",
    "loan1=loan1[(z<3).all(axis=1)]\n",
    "\n",
    "x=loan1.drop('Loan_Status',axis=1)\n",
    "y=loan1['Loan_Status']"
   ]
  },
  {
   "cell_type": "code",
   "execution_count": 6,
   "metadata": {},
   "outputs": [],
   "source": [
    "from sklearn.linear_model import LogisticRegression\n",
    "from sklearn.tree import DecisionTreeClassifier\n",
    "from sklearn.svm import SVC\n",
    "from sklearn.neighbors import KNeighborsClassifier\n",
    "from sklearn.naive_bayes import GaussianNB, MultinomialNB\n",
    "from sklearn.model_selection import train_test_split\n",
    "from sklearn.metrics import accuracy_score, confusion_matrix, classification_report\n",
    "from sklearn.ensemble import RandomForestClassifier\n",
    "from sklearn.ensemble import GradientBoostingClassifier\n",
    "from xgboost import XGBClassifier\n",
    "from sklearn.ensemble import AdaBoostClassifier\n",
    "from sklearn.model_selection import cross_val_score,cross_val_predict,cross_validate\n",
    "from sklearn.metrics import roc_curve, roc_auc_score\n",
    "\n",
    "# Now, let's define some functions to reuse them\n",
    "def fitc(m,x,y,rs=45):\n",
    "    x_train, x_test, y_train, y_test=train_test_split(x,y,test_size=0.25,random_state=rs,stratify=y)\n",
    "    m.fit(x_train,y_train)\n",
    "    \n",
    "def get_scorec(m,x,y,rs=45):\n",
    "    x_train, x_test, y_train, y_test=train_test_split(x,y,test_size=0.25,random_state=rs,stratify=y)\n",
    "    m.fit(x_train,y_train)\n",
    "    train_score=m.score(x_train,y_train)\n",
    "    pred=m.predict(x_test)\n",
    "    test_score=accuracy_score(pred,y_test)\n",
    "    return train_score,test_score\n",
    "\n",
    "def get_predc(m,x,y,rs=45):\n",
    "    x_train, x_test, y_train, y_test=train_test_split(x,y,test_size=0.25,random_state=rs,stratify=y)\n",
    "    m.fit(x_train,y_train)\n",
    "    pred=m.predict(x_test)\n",
    "    return pred\n",
    "\n",
    "def get_metricsc(m,x,y,rs=45):\n",
    "    x_train, x_test, y_train, y_test=train_test_split(x,y,test_size=0.25,random_state=rs,stratify=y)\n",
    "    m.fit(x_train,y_train)\n",
    "    pred=m.predict(x_test)\n",
    "    acc=accuracy_score(pred,y_test)\n",
    "    conf=confusion_matrix(pred,y_test)\n",
    "    clas=classification_report(pred,y_test)\n",
    "    return acc,conf,clas\n",
    "\n",
    "from sklearn.model_selection import GridSearchCV\n",
    "def gridcvc(m,p,x,y):\n",
    "    gkb=GridSearchCV(m,p,n_jobs=-1,cv=5,scoring='accuracy')\n",
    "    gkb.fit(x,y)\n",
    "    return gkb.best_params_\n",
    "\n",
    "\n",
    "from sklearn.model_selection import RandomizedSearchCV\n",
    "def randomcvc(m,p,x,y):\n",
    "    from sklearn.model_selection import RandomizedSearchCV\n",
    "    gkb=RandomizedSearchCV(estimator=m,param_distributions=p,\n",
    "                          cv=5,n_iter=75,\n",
    "                          n_jobs=-1, verbose=5,return_train_score=True,random_state=45)\n",
    "    gkb.fit(x,y)\n",
    "    return gkb.best_params_\n",
    "\n",
    "from mlxtend.feature_selection import SequentialFeatureSelector as sfs\n",
    "def bfec(m,x,y,k):\n",
    "    sf=sfs(m, k_features=k, forward=False, cv=5, n_jobs=-1)\n",
    "    sf.fit(x,y)\n",
    "    feat_names=list(sf.k_feature_names_)\n",
    "    xbfe=x[feat_names]\n",
    "    return xbfe\n",
    "\n",
    "def ffsc(m,x,y,k):\n",
    "    sf=sfs(m, k_features=k, forward=True, cv=5, n_jobs=-1)\n",
    "    sf.fit(x,y)\n",
    "    feat_names=list(sf.k_feature_names_)\n",
    "    xffs=x[feat_names]\n",
    "    return xffs\n",
    "\n",
    "from sklearn.decomposition import PCA\n",
    "def nforpcac(x):\n",
    "    pca=PCA().fit(x)\n",
    "    plt.figure()\n",
    "    plt.plot(np.cumsum(pca.explained_variance_ratio_)*100)\n",
    "    plt.xlabel('No of Components')\n",
    "    plt.ylabel('Variance')\n",
    "    plt.axhline(y=95, color='r', linestyle='--')\n",
    "    plt.show()\n",
    "    \n",
    "def pcac(m,x,n):\n",
    "    pca=PCA(n_components=n)\n",
    "    xpca=pd.DataFrame(pca.fit_transform(x))\n",
    "    return xpca\n",
    "\n",
    "def crossc(m,x,y,c=5):\n",
    "    score=cross_val_score(m,x,y,cv=c,n_jobs=-1)\n",
    "    return (score.mean(), score.std())\n",
    "\n",
    "from sklearn.preprocessing import StandardScaler\n",
    "def stdc(x):\n",
    "    scx=StandardScaler()\n",
    "    xs=pd.DataFrame(scx.fit_transform(x), columns=x.columns)\n",
    "    return xs\n",
    "\n",
    "from sklearn.preprocessing import MinMaxScaler\n",
    "def mmc(x):\n",
    "    mm=MinMaxScaler()\n",
    "    xm=pd.DataFrame(mm.fit_transform(x), columns=x.columns)\n",
    "    return xm\n",
    "\n",
    "def modified_bfec(m,x,y,k):\n",
    "    sf=sfs(m, k_features=k, forward=False, cv=5, n_jobs=-1)\n",
    "    sf.fit(x,y)\n",
    "    feat_names=list(sf.k_feature_names_)\n",
    "    xbfe=x[feat_names]\n",
    "    x_train, x_test, y_train, y_test=train_test_split(xbfe,y,test_size=0.25,random_state=45,stratify=y)\n",
    "    m.fit(x_train,y_train)\n",
    "    pred=m.predict(x_test)\n",
    "    test_score=accuracy_score(pred,y_test)\n",
    "    return test_score\n",
    "\n",
    "def modified_ffsc(m,x,y,k):\n",
    "    sf=sfs(m, k_features=k, forward=True, cv=5, n_jobs=-1)\n",
    "    sf.fit(x,y)\n",
    "    feat_names=list(sf.k_feature_names_)\n",
    "    xffs=x[feat_names]\n",
    "    x_train, x_test, y_train, y_test=train_test_split(xffs,y,test_size=0.25,random_state=45,stratify=y)\n",
    "    m.fit(x_train,y_train)\n",
    "    pred=m.predict(x_test)\n",
    "    test_score=accuracy_score(pred,y_test)\n",
    "    return test_score\n",
    "\n",
    "def modified_pcac(m,x,y,n):\n",
    "    pca=PCA(n_components=n)\n",
    "    xpca=pd.DataFrame(pca.fit_transform(x))\n",
    "    x_train, x_test, y_train, y_test=train_test_split(xpca,y,test_size=0.25,random_state=45,stratify=y)\n",
    "    m.fit(x_train,y_train)\n",
    "    pred=m.predict(x_test)\n",
    "    test_score=accuracy_score(pred,y_test)\n",
    "    return test_score\n",
    "\n",
    "def ttsc(x,y,rs=45):\n",
    "    x_train, x_test, y_train, y_test=train_test_split(x,y,test_size=0.25,random_state=rs,stratify=y)\n",
    "    return x_train, x_test, y_train, y_test\n",
    "\n",
    "def classification(m,x,y,rs=45):\n",
    "    x_train, x_test, y_train, y_test=train_test_split(x,y,test_size=0.25,random_state=rs,stratify=y)\n",
    "    m.fit(x_train,y_train)\n",
    "    pred=m.predict(x_test)\n",
    "    clas=classification_report(pred,y_test)\n",
    "    return clas\n",
    "\n",
    "lrc=LogisticRegression(n_jobs=-1,random_state=45)\n",
    "dtc=DecisionTreeClassifier(random_state=45)\n",
    "svc=SVC(random_state=45)\n",
    "knnc=KNeighborsClassifier(n_jobs=-1)\n",
    "rfc=RandomForestClassifier(n_jobs=-1,random_state=45)\n",
    "gbc=GradientBoostingClassifier(random_state=45)\n",
    "xgbc=XGBClassifier(n_jobs=-1,random_state=45)\n",
    "adac=AdaBoostClassifier(random_state=45)\n",
    "gnb=GaussianNB()\n",
    "mnb=MultinomialNB()"
   ]
  },
  {
   "cell_type": "code",
   "execution_count": 7,
   "metadata": {},
   "outputs": [],
   "source": [
    "xs=stdc(x)\n",
    "x_sk=x.copy()\n",
    "\n",
    "# x_sk['ApplicantIncome'].min(), x_sk['ApplicantIncome'].max()\n",
    "x_sk['ApplicantIncome']=np.log(x_sk['ApplicantIncome'])\n",
    "# skewness reduced to -0.20\n",
    "# x_sk['CoapplicantIncome'].min(), x_sk['CoapplicantIncome'].max()\n",
    "x_sk['CoapplicantIncome']=np.cbrt(x_sk['CoapplicantIncome'])\n",
    "# skewness reduced to -0.03\n",
    "# x_sk['LoanAmount'].min(), x_sk['LoanAmount'].max()\n",
    "x_sk['LoanAmount']=np.cbrt(x_sk['LoanAmount'])\n",
    "# skewness reduced to 0.05\n",
    "# x_sk['Loan_Amount_Term'].min(), x_sk['Loan_Amount_Term'].max()\n",
    "x_sk['Loan_Amount_Term']=np.power(x_sk['Loan_Amount_Term'],2.5)\n",
    "# skewness reduced to 0.05\n",
    "# x_sk['Dependents'].min(), x_sk['Dependents'].max()\n",
    "x_sk['Dependents']=np.power(x_sk['Dependents'],1/5)\n",
    "# skewness reduced to 0.43\n",
    "\n",
    "xs_sk=stdc(x_sk)"
   ]
  },
  {
   "cell_type": "markdown",
   "metadata": {},
   "source": [
    "# SVC"
   ]
  },
  {
   "cell_type": "code",
   "execution_count": 8,
   "metadata": {},
   "outputs": [],
   "source": [
    "# SVC with xs_sk 0.8287037037037037, 0.8206896551724138"
   ]
  },
  {
   "cell_type": "code",
   "execution_count": 9,
   "metadata": {},
   "outputs": [],
   "source": [
    "# svc=SVC(random_state=45)"
   ]
  },
  {
   "cell_type": "code",
   "execution_count": 10,
   "metadata": {},
   "outputs": [],
   "source": [
    "# Individual Model Pipeline:\n",
    "# 1. feature selection\n",
    "# 2. Hyper parameter tuning\n",
    "# 3. Boosting\n",
    "# 4. Cross Validation\n",
    "# 5. Evaluation Metrics"
   ]
  },
  {
   "cell_type": "code",
   "execution_count": 11,
   "metadata": {},
   "outputs": [
    {
     "name": "stdout",
     "output_type": "stream",
     "text": [
      "7   0.8206896551724138\n",
      "8   0.8206896551724138\n",
      "9   0.8206896551724138\n",
      "10   0.8137931034482758\n",
      "11   0.8206896551724138\n"
     ]
    }
   ],
   "source": [
    "# lets apply BFE\n",
    "# there are 11 features\n",
    "for i in range(7,12):\n",
    "    print(i,\" \",modified_bfec(svc,xs_sk,y,i))"
   ]
  },
  {
   "cell_type": "code",
   "execution_count": 12,
   "metadata": {},
   "outputs": [],
   "source": [
    "# same score"
   ]
  },
  {
   "cell_type": "code",
   "execution_count": 15,
   "metadata": {},
   "outputs": [
    {
     "name": "stdout",
     "output_type": "stream",
     "text": [
      "4   0.696551724137931\n",
      "5   0.8137931034482758\n",
      "6   0.8275862068965517\n",
      "7   0.8275862068965517\n",
      "8   0.8206896551724138\n",
      "9   0.8206896551724138\n",
      "10   0.8206896551724138\n",
      "11   0.8206896551724138\n"
     ]
    }
   ],
   "source": [
    "# PCA\n",
    "# take n from 8 to 12\n",
    "for i in range(4,12):\n",
    "        print(i,\" \",modified_pcac(svc,xs_sk,y,i))"
   ]
  },
  {
   "cell_type": "code",
   "execution_count": 16,
   "metadata": {},
   "outputs": [],
   "source": [
    "# score improved at n=6"
   ]
  },
  {
   "cell_type": "code",
   "execution_count": 17,
   "metadata": {},
   "outputs": [
    {
     "data": {
      "text/html": [
       "<div>\n",
       "<style scoped>\n",
       "    .dataframe tbody tr th:only-of-type {\n",
       "        vertical-align: middle;\n",
       "    }\n",
       "\n",
       "    .dataframe tbody tr th {\n",
       "        vertical-align: top;\n",
       "    }\n",
       "\n",
       "    .dataframe thead th {\n",
       "        text-align: right;\n",
       "    }\n",
       "</style>\n",
       "<table border=\"1\" class=\"dataframe\">\n",
       "  <thead>\n",
       "    <tr style=\"text-align: right;\">\n",
       "      <th></th>\n",
       "      <th>0</th>\n",
       "      <th>1</th>\n",
       "      <th>2</th>\n",
       "      <th>3</th>\n",
       "      <th>4</th>\n",
       "      <th>5</th>\n",
       "    </tr>\n",
       "  </thead>\n",
       "  <tbody>\n",
       "    <tr>\n",
       "      <td>0</td>\n",
       "      <td>1.227175</td>\n",
       "      <td>-1.113400</td>\n",
       "      <td>0.018509</td>\n",
       "      <td>-1.160499</td>\n",
       "      <td>0.113337</td>\n",
       "      <td>-0.398881</td>\n",
       "    </tr>\n",
       "    <tr>\n",
       "      <td>1</td>\n",
       "      <td>-1.268810</td>\n",
       "      <td>0.172314</td>\n",
       "      <td>-0.644767</td>\n",
       "      <td>0.077452</td>\n",
       "      <td>-0.586020</td>\n",
       "      <td>0.509644</td>\n",
       "    </tr>\n",
       "    <tr>\n",
       "      <td>2</td>\n",
       "      <td>0.608742</td>\n",
       "      <td>-0.477596</td>\n",
       "      <td>1.150413</td>\n",
       "      <td>-0.665461</td>\n",
       "      <td>-0.339994</td>\n",
       "      <td>0.252416</td>\n",
       "    </tr>\n",
       "    <tr>\n",
       "      <td>3</td>\n",
       "      <td>-0.316439</td>\n",
       "      <td>1.819031</td>\n",
       "      <td>0.364437</td>\n",
       "      <td>-0.207288</td>\n",
       "      <td>-0.134438</td>\n",
       "      <td>0.084346</td>\n",
       "    </tr>\n",
       "    <tr>\n",
       "      <td>4</td>\n",
       "      <td>1.125210</td>\n",
       "      <td>-1.227313</td>\n",
       "      <td>-0.068878</td>\n",
       "      <td>-1.131409</td>\n",
       "      <td>0.148618</td>\n",
       "      <td>-0.421022</td>\n",
       "    </tr>\n",
       "  </tbody>\n",
       "</table>\n",
       "</div>"
      ],
      "text/plain": [
       "          0         1         2         3         4         5\n",
       "0  1.227175 -1.113400  0.018509 -1.160499  0.113337 -0.398881\n",
       "1 -1.268810  0.172314 -0.644767  0.077452 -0.586020  0.509644\n",
       "2  0.608742 -0.477596  1.150413 -0.665461 -0.339994  0.252416\n",
       "3 -0.316439  1.819031  0.364437 -0.207288 -0.134438  0.084346\n",
       "4  1.125210 -1.227313 -0.068878 -1.131409  0.148618 -0.421022"
      ]
     },
     "execution_count": 17,
     "metadata": {},
     "output_type": "execute_result"
    }
   ],
   "source": [
    "xs_sk_pca1=pcac(svc,xs_sk,6)\n",
    "xs_sk_pca1.head()"
   ]
  },
  {
   "cell_type": "code",
   "execution_count": 18,
   "metadata": {},
   "outputs": [
    {
     "data": {
      "text/plain": [
       "(0.8310185185185185, 0.8275862068965517)"
      ]
     },
     "execution_count": 18,
     "metadata": {},
     "output_type": "execute_result"
    }
   ],
   "source": [
    "get_scorec(svc,xs_sk_pca1,y)"
   ]
  },
  {
   "cell_type": "code",
   "execution_count": 19,
   "metadata": {},
   "outputs": [],
   "source": [
    "# lets tune the model"
   ]
  },
  {
   "cell_type": "code",
   "execution_count": 20,
   "metadata": {},
   "outputs": [],
   "source": [
    "SVC?"
   ]
  },
  {
   "cell_type": "code",
   "execution_count": 21,
   "metadata": {},
   "outputs": [
    {
     "name": "stdout",
     "output_type": "stream",
     "text": [
      "Fitting 5 folds for each of 2 candidates, totalling 10 fits\n"
     ]
    },
    {
     "name": "stderr",
     "output_type": "stream",
     "text": [
      "[Parallel(n_jobs=-1)]: Using backend LokyBackend with 4 concurrent workers.\n",
      "[Parallel(n_jobs=-1)]: Done   6 out of  10 | elapsed:    3.6s remaining:    2.4s\n",
      "[Parallel(n_jobs=-1)]: Done  10 out of  10 | elapsed:    3.6s finished\n"
     ]
    },
    {
     "data": {
      "text/plain": [
       "{'kernel': 'rbf'}"
      ]
     },
     "execution_count": 21,
     "metadata": {},
     "output_type": "execute_result"
    }
   ],
   "source": [
    "param_svc={'kernel':['rbf','poly']}\n",
    "randomcvc(svc,param_svc,xs_sk_pca1,y)"
   ]
  },
  {
   "cell_type": "code",
   "execution_count": 22,
   "metadata": {},
   "outputs": [],
   "source": [
    "svc1=SVC(random_state=45,kernel='rbf',probability=True)"
   ]
  },
  {
   "cell_type": "code",
   "execution_count": 23,
   "metadata": {},
   "outputs": [
    {
     "name": "stdout",
     "output_type": "stream",
     "text": [
      "Fitting 5 folds for each of 8 candidates, totalling 40 fits\n"
     ]
    },
    {
     "name": "stderr",
     "output_type": "stream",
     "text": [
      "[Parallel(n_jobs=-1)]: Using backend LokyBackend with 4 concurrent workers.\n",
      "[Parallel(n_jobs=-1)]: Done  12 tasks      | elapsed:    0.3s\n",
      "[Parallel(n_jobs=-1)]: Done  40 out of  40 | elapsed:    0.8s finished\n"
     ]
    },
    {
     "data": {
      "text/plain": [
       "{'C': 1}"
      ]
     },
     "execution_count": 23,
     "metadata": {},
     "output_type": "execute_result"
    }
   ],
   "source": [
    "param_svc1={'C':[0.01,0.05,0.1,0.5,1,1.5,2,2.5]}\n",
    "randomcvc(svc1,param_svc1,xs_sk_pca1,y)"
   ]
  },
  {
   "cell_type": "code",
   "execution_count": 25,
   "metadata": {},
   "outputs": [
    {
     "name": "stdout",
     "output_type": "stream",
     "text": [
      "Fitting 5 folds for each of 5 candidates, totalling 25 fits\n"
     ]
    },
    {
     "name": "stderr",
     "output_type": "stream",
     "text": [
      "[Parallel(n_jobs=-1)]: Using backend LokyBackend with 4 concurrent workers.\n",
      "[Parallel(n_jobs=-1)]: Done  12 out of  25 | elapsed:    0.3s remaining:    0.3s\n",
      "[Parallel(n_jobs=-1)]: Done  25 out of  25 | elapsed:    0.3s finished\n"
     ]
    },
    {
     "data": {
      "text/plain": [
       "{'C': 0.8}"
      ]
     },
     "execution_count": 25,
     "metadata": {},
     "output_type": "execute_result"
    }
   ],
   "source": [
    "param_svc2={'C':[0.6,0.7,0.8,0.9,1]}\n",
    "randomcvc(svc1,param_svc2,xs_sk_pca1,y)"
   ]
  },
  {
   "cell_type": "code",
   "execution_count": 26,
   "metadata": {},
   "outputs": [
    {
     "data": {
      "text/plain": [
       "(0.8240740740740741, 0.8206896551724138)"
      ]
     },
     "execution_count": 26,
     "metadata": {},
     "output_type": "execute_result"
    }
   ],
   "source": [
    "svc2=SVC(random_state=45,kernel='rbf',probability=True,C=0.8)\n",
    "get_scorec(svc2,xs_sk_pca1,y)"
   ]
  },
  {
   "cell_type": "code",
   "execution_count": 27,
   "metadata": {},
   "outputs": [],
   "source": [
    "# score reduced"
   ]
  },
  {
   "cell_type": "code",
   "execution_count": 33,
   "metadata": {},
   "outputs": [
    {
     "data": {
      "text/plain": [
       "(0.8263888888888888, 0.8275862068965517)"
      ]
     },
     "execution_count": 33,
     "metadata": {},
     "output_type": "execute_result"
    }
   ],
   "source": [
    "# lets boost svc,xs_sk_pca1,y\n",
    "adasvc=AdaBoostClassifier(random_state=45,base_estimator=svc1,n_estimators=300,learning_rate=0.001)\n",
    "get_scorec(adasvc,xs_sk_pca1,y)"
   ]
  },
  {
   "cell_type": "code",
   "execution_count": 34,
   "metadata": {},
   "outputs": [],
   "source": [
    "# the score is not improving"
   ]
  },
  {
   "cell_type": "code",
   "execution_count": 35,
   "metadata": {},
   "outputs": [
    {
     "name": "stdout",
     "output_type": "stream",
     "text": [
      "2   (0.8180687716262975, 0.025681228373702403)\n",
      "3   (0.8181103003011149, 0.018663503581362217)\n",
      "4   (0.8215957653457654, 0.026239878687864544)\n",
      "5   (0.8181659170414791, 0.032067704240564626)\n",
      "6   (0.8215690374992463, 0.032104764005158486)\n",
      "7   (0.8182638930998223, 0.041003094533281895)\n",
      "8   (0.8182161366218621, 0.04166465468695646)\n",
      "9   (0.8198391500474833, 0.046464860948615586)\n",
      "10   (0.8181715063520872, 0.04133157873060615)\n",
      "11   (0.8197761358138717, 0.04402713473696293)\n",
      "12   (0.8179812261784146, 0.043525884623034305)\n"
     ]
    }
   ],
   "source": [
    "# lets cross validate svc,xs_sk_pca1,y\n",
    "for i in range(2,13):\n",
    "    print(i,\" \",crossc(svc1,xs_sk_pca1,y,i))"
   ]
  },
  {
   "cell_type": "code",
   "execution_count": 36,
   "metadata": {},
   "outputs": [],
   "source": [
    "# no over fitting or under fitting"
   ]
  },
  {
   "cell_type": "code",
   "execution_count": 37,
   "metadata": {},
   "outputs": [
    {
     "name": "stdout",
     "output_type": "stream",
     "text": [
      "0.8275862068965517\n",
      " \n",
      "[[21  1]\n",
      " [24 99]]\n",
      " \n",
      "              precision    recall  f1-score   support\n",
      "\n",
      "           0       0.47      0.95      0.63        22\n",
      "           1       0.99      0.80      0.89       123\n",
      "\n",
      "    accuracy                           0.83       145\n",
      "   macro avg       0.73      0.88      0.76       145\n",
      "weighted avg       0.91      0.83      0.85       145\n",
      "\n"
     ]
    }
   ],
   "source": [
    "# lets check metrics of lrc2, xs_sk ,y\n",
    "# Evaluation metrics\n",
    "acc, conf, clas=get_metricsc(svc1,xs_sk_pca1,y)\n",
    "print(acc)\n",
    "print(' ')\n",
    "print(conf)\n",
    "print(' ')\n",
    "print(clas)"
   ]
  },
  {
   "cell_type": "code",
   "execution_count": 38,
   "metadata": {},
   "outputs": [],
   "source": [
    "# precision is not good"
   ]
  },
  {
   "cell_type": "code",
   "execution_count": 39,
   "metadata": {},
   "outputs": [],
   "source": [
    "# auc roc"
   ]
  },
  {
   "cell_type": "code",
   "execution_count": 41,
   "metadata": {},
   "outputs": [
    {
     "data": {
      "image/png": "[encoded data removed]",
      "text/plain": [
       "<Figure size 432x288 with 1 Axes>"
      ]
     },
     "metadata": {
      "needs_background": "light"
     },
     "output_type": "display_data"
    }
   ],
   "source": [
    "xtr,xte,ytr,yte=ttsc(xs_sk_pca1,y)\n",
    "svc1.fit(xtr,ytr)\n",
    "y_pred_pro=svc1.predict_proba(xte)[:,1]\n",
    "fpr,tpr,threshold=roc_curve(yte,y_pred_pro)\n",
    "plt.plot([0,1], [0,1], 'k--')\n",
    "plt.plot(fpr,tpr,label='LRC')\n",
    "plt.show()"
   ]
  },
  {
   "cell_type": "code",
   "execution_count": 42,
   "metadata": {},
   "outputs": [
    {
     "data": {
      "text/plain": [
       "0.7388888888888889"
      ]
     },
     "execution_count": 42,
     "metadata": {},
     "output_type": "execute_result"
    }
   ],
   "source": [
    "roc_auc_score(yte,y_pred_pro)"
   ]
  },
  {
   "cell_type": "code",
   "execution_count": null,
   "metadata": {},
   "outputs": [],
   "source": []
  }
 ],
 "metadata": {
  "kernelspec": {
   "display_name": "Python 3",
   "language": "python",
   "name": "python3"
  },
  "language_info": {
   "codemirror_mode": {
    "name": "ipython",
    "version": 3
   },
   "file_extension": ".py",
   "mimetype": "text/x-python",
   "name": "python",
   "nbconvert_exporter": "python",
   "pygments_lexer": "ipython3",
   "version": "3.7.4"
  }
 },
 "nbformat": 4,
 "nbformat_minor": 2
}
