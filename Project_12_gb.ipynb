{
 "cells": [
  {
   "cell_type": "code",
   "execution_count": 1,
   "metadata": {},
   "outputs": [],
   "source": [
    "import numpy as np\n",
    "import pandas as pd\n",
    "import seaborn as sns \n",
    "import matplotlib.pyplot as plt\n",
    "%matplotlib inline\n",
    "import scipy.stats as st\n",
    "import pyforest\n",
    "import warnings\n",
    "warnings.filterwarnings('ignore')\n",
    "pd.set_option('display.max_rows', 1000)\n",
    "pd.set_option('display.max_columns', 100)\n",
    "pd.set_option('display.width',1000)"
   ]
  },
  {
   "cell_type": "code",
   "execution_count": 2,
   "metadata": {},
   "outputs": [],
   "source": [
    "loan=pd.read_csv('loan.csv')\n",
    "loan1=loan.copy()\n",
    "# impute gender with most freq category\n",
    "loan1['Gender']=loan1['Gender'].fillna('Male')\n",
    "# impute gender with most freq category\n",
    "loan1['Dependents']=loan1['Dependents'].fillna('0')\n",
    "# impute gender with most freq category\n",
    "loan1['Self_Employed']=loan1['Self_Employed'].fillna('No')\n",
    "# as the distribution is skewed, we'll do for median imputation\n",
    "loan1['LoanAmount']=loan1['LoanAmount'].fillna(loan1['LoanAmount'].median())\n",
    "# we'll do for mean imputation\n",
    "loan1['Loan_Amount_Term']=loan1['Loan_Amount_Term'].fillna(loan1['Loan_Amount_Term'].mean())\n",
    "# impute gender with most freq category\n",
    "loan1['Credit_History']=loan1['Credit_History'].fillna(1.0)\n",
    "# impute gender with most freq category\n",
    "loan1['Married']=loan1['Married'].fillna('Yes')\n",
    "# drop loanid\n",
    "loan1.drop('Loan_ID',axis=1,inplace=True)"
   ]
  },
  {
   "cell_type": "code",
   "execution_count": 3,
   "metadata": {},
   "outputs": [],
   "source": [
    "from sklearn.preprocessing import LabelEncoder\n",
    "def le(df,col):\n",
    "    lab=LabelEncoder()\n",
    "    df[col]=pd.Series(lab.fit_transform(df[col]))"
   ]
  },
  {
   "cell_type": "code",
   "execution_count": 4,
   "metadata": {},
   "outputs": [],
   "source": [
    "le(loan1,'Gender')\n",
    "le(loan1,'Married')\n",
    "le(loan1,'Dependents')\n",
    "le(loan1,'Education')\n",
    "le(loan1,'Self_Employed')\n",
    "le(loan1,'Property_Area')\n",
    "le(loan1,'Loan_Status')"
   ]
  },
  {
   "cell_type": "code",
   "execution_count": 5,
   "metadata": {},
   "outputs": [],
   "source": [
    "from scipy.stats import zscore\n",
    "z=np.abs(zscore(loan1))\n",
    "loan1=loan1[(z<3).all(axis=1)]\n",
    "\n",
    "x=loan1.drop('Loan_Status',axis=1)\n",
    "y=loan1['Loan_Status']"
   ]
  },
  {
   "cell_type": "code",
   "execution_count": 6,
   "metadata": {},
   "outputs": [],
   "source": [
    "from sklearn.linear_model import LogisticRegression\n",
    "from sklearn.tree import DecisionTreeClassifier\n",
    "from sklearn.svm import SVC\n",
    "from sklearn.neighbors import KNeighborsClassifier\n",
    "from sklearn.naive_bayes import GaussianNB, MultinomialNB\n",
    "from sklearn.model_selection import train_test_split\n",
    "from sklearn.metrics import accuracy_score, confusion_matrix, classification_report\n",
    "from sklearn.ensemble import RandomForestClassifier\n",
    "from sklearn.ensemble import GradientBoostingClassifier\n",
    "from xgboost import XGBClassifier\n",
    "from sklearn.ensemble import AdaBoostClassifier\n",
    "from sklearn.model_selection import cross_val_score,cross_val_predict,cross_validate\n",
    "from sklearn.metrics import roc_curve, roc_auc_score\n",
    "\n",
    "# Now, let's define some functions to reuse them\n",
    "def fitc(m,x,y,rs=45):\n",
    "    x_train, x_test, y_train, y_test=train_test_split(x,y,test_size=0.25,random_state=rs,stratify=y)\n",
    "    m.fit(x_train,y_train)\n",
    "    \n",
    "def get_scorec(m,x,y,rs=45):\n",
    "    x_train, x_test, y_train, y_test=train_test_split(x,y,test_size=0.25,random_state=rs,stratify=y)\n",
    "    m.fit(x_train,y_train)\n",
    "    train_score=m.score(x_train,y_train)\n",
    "    pred=m.predict(x_test)\n",
    "    test_score=accuracy_score(pred,y_test)\n",
    "    return train_score,test_score\n",
    "\n",
    "def get_predc(m,x,y,rs=45):\n",
    "    x_train, x_test, y_train, y_test=train_test_split(x,y,test_size=0.25,random_state=rs,stratify=y)\n",
    "    m.fit(x_train,y_train)\n",
    "    pred=m.predict(x_test)\n",
    "    return pred\n",
    "\n",
    "def get_metricsc(m,x,y,rs=45):\n",
    "    x_train, x_test, y_train, y_test=train_test_split(x,y,test_size=0.25,random_state=rs,stratify=y)\n",
    "    m.fit(x_train,y_train)\n",
    "    pred=m.predict(x_test)\n",
    "    acc=accuracy_score(pred,y_test)\n",
    "    conf=confusion_matrix(pred,y_test)\n",
    "    clas=classification_report(pred,y_test)\n",
    "    return acc,conf,clas\n",
    "\n",
    "from sklearn.model_selection import GridSearchCV\n",
    "def gridcvc(m,p,x,y):\n",
    "    gkb=GridSearchCV(m,p,n_jobs=-1,cv=5,scoring='accuracy')\n",
    "    gkb.fit(x,y)\n",
    "    return gkb.best_params_\n",
    "\n",
    "\n",
    "from sklearn.model_selection import RandomizedSearchCV\n",
    "def randomcvc(m,p,x,y):\n",
    "    from sklearn.model_selection import RandomizedSearchCV\n",
    "    gkb=RandomizedSearchCV(estimator=m,param_distributions=p,\n",
    "                          cv=5,n_iter=75,\n",
    "                          n_jobs=-1, verbose=5,return_train_score=True,random_state=45)\n",
    "    gkb.fit(x,y)\n",
    "    return gkb.best_params_\n",
    "\n",
    "from mlxtend.feature_selection import SequentialFeatureSelector as sfs\n",
    "def bfec(m,x,y,k):\n",
    "    sf=sfs(m, k_features=k, forward=False, cv=5, n_jobs=-1)\n",
    "    sf.fit(x,y)\n",
    "    feat_names=list(sf.k_feature_names_)\n",
    "    xbfe=x[feat_names]\n",
    "    return xbfe\n",
    "\n",
    "def ffsc(m,x,y,k):\n",
    "    sf=sfs(m, k_features=k, forward=True, cv=5, n_jobs=-1)\n",
    "    sf.fit(x,y)\n",
    "    feat_names=list(sf.k_feature_names_)\n",
    "    xffs=x[feat_names]\n",
    "    return xffs\n",
    "\n",
    "from sklearn.decomposition import PCA\n",
    "def nforpcac(x):\n",
    "    pca=PCA().fit(x)\n",
    "    plt.figure()\n",
    "    plt.plot(np.cumsum(pca.explained_variance_ratio_)*100)\n",
    "    plt.xlabel('No of Components')\n",
    "    plt.ylabel('Variance')\n",
    "    plt.axhline(y=95, color='r', linestyle='--')\n",
    "    plt.show()\n",
    "    \n",
    "def pcac(m,x,n):\n",
    "    pca=PCA(n_components=n)\n",
    "    xpca=pd.DataFrame(pca.fit_transform(x))\n",
    "    return xpca\n",
    "\n",
    "def crossc(m,x,y,c=5):\n",
    "    score=cross_val_score(m,x,y,cv=c,n_jobs=-1)\n",
    "    return (score.mean(), score.std())\n",
    "\n",
    "from sklearn.preprocessing import StandardScaler\n",
    "def stdc(x):\n",
    "    scx=StandardScaler()\n",
    "    xs=pd.DataFrame(scx.fit_transform(x), columns=x.columns)\n",
    "    return xs\n",
    "\n",
    "from sklearn.preprocessing import MinMaxScaler\n",
    "def mmc(x):\n",
    "    mm=MinMaxScaler()\n",
    "    xm=pd.DataFrame(mm.fit_transform(x), columns=x.columns)\n",
    "    return xm\n",
    "\n",
    "def modified_bfec(m,x,y,k):\n",
    "    sf=sfs(m, k_features=k, forward=False, cv=5, n_jobs=-1)\n",
    "    sf.fit(x,y)\n",
    "    feat_names=list(sf.k_feature_names_)\n",
    "    xbfe=x[feat_names]\n",
    "    x_train, x_test, y_train, y_test=train_test_split(xbfe,y,test_size=0.25,random_state=45,stratify=y)\n",
    "    m.fit(x_train,y_train)\n",
    "    pred=m.predict(x_test)\n",
    "    test_score=accuracy_score(pred,y_test)\n",
    "    return test_score\n",
    "\n",
    "def modified_ffsc(m,x,y,k):\n",
    "    sf=sfs(m, k_features=k, forward=True, cv=5, n_jobs=-1)\n",
    "    sf.fit(x,y)\n",
    "    feat_names=list(sf.k_feature_names_)\n",
    "    xffs=x[feat_names]\n",
    "    x_train, x_test, y_train, y_test=train_test_split(xffs,y,test_size=0.25,random_state=45,stratify=y)\n",
    "    m.fit(x_train,y_train)\n",
    "    pred=m.predict(x_test)\n",
    "    test_score=accuracy_score(pred,y_test)\n",
    "    return test_score\n",
    "\n",
    "def modified_pcac(m,x,y,n):\n",
    "    pca=PCA(n_components=n)\n",
    "    xpca=pd.DataFrame(pca.fit_transform(x))\n",
    "    x_train, x_test, y_train, y_test=train_test_split(xpca,y,test_size=0.25,random_state=45,stratify=y)\n",
    "    m.fit(x_train,y_train)\n",
    "    pred=m.predict(x_test)\n",
    "    test_score=accuracy_score(pred,y_test)\n",
    "    return test_score\n",
    "\n",
    "def ttsc(x,y,rs=45):\n",
    "    x_train, x_test, y_train, y_test=train_test_split(x,y,test_size=0.25,random_state=rs,stratify=y)\n",
    "    return x_train, x_test, y_train, y_test\n",
    "\n",
    "def classification(m,x,y,rs=45):\n",
    "    x_train, x_test, y_train, y_test=train_test_split(x,y,test_size=0.25,random_state=rs,stratify=y)\n",
    "    m.fit(x_train,y_train)\n",
    "    pred=m.predict(x_test)\n",
    "    clas=classification_report(pred,y_test)\n",
    "    return clas\n",
    "\n",
    "lrc=LogisticRegression(n_jobs=-1,random_state=45)\n",
    "dtc=DecisionTreeClassifier(random_state=45)\n",
    "svc=SVC(random_state=45)\n",
    "knnc=KNeighborsClassifier(n_jobs=-1)\n",
    "rfc=RandomForestClassifier(n_jobs=-1,random_state=45)\n",
    "gbc=GradientBoostingClassifier(random_state=45)\n",
    "xgbc=XGBClassifier(n_jobs=-1,random_state=45)\n",
    "adac=AdaBoostClassifier(random_state=45)\n",
    "gnb=GaussianNB()\n",
    "mnb=MultinomialNB()"
   ]
  },
  {
   "cell_type": "code",
   "execution_count": 7,
   "metadata": {},
   "outputs": [],
   "source": [
    "xs=stdc(x)\n",
    "x_sk=x.copy()\n",
    "\n",
    "# x_sk['ApplicantIncome'].min(), x_sk['ApplicantIncome'].max()\n",
    "x_sk['ApplicantIncome']=np.log(x_sk['ApplicantIncome'])\n",
    "# skewness reduced to -0.20\n",
    "# x_sk['CoapplicantIncome'].min(), x_sk['CoapplicantIncome'].max()\n",
    "x_sk['CoapplicantIncome']=np.cbrt(x_sk['CoapplicantIncome'])\n",
    "# skewness reduced to -0.03\n",
    "# x_sk['LoanAmount'].min(), x_sk['LoanAmount'].max()\n",
    "x_sk['LoanAmount']=np.cbrt(x_sk['LoanAmount'])\n",
    "# skewness reduced to 0.05\n",
    "# x_sk['Loan_Amount_Term'].min(), x_sk['Loan_Amount_Term'].max()\n",
    "x_sk['Loan_Amount_Term']=np.power(x_sk['Loan_Amount_Term'],2.5)\n",
    "# skewness reduced to 0.05\n",
    "# x_sk['Dependents'].min(), x_sk['Dependents'].max()\n",
    "x_sk['Dependents']=np.power(x_sk['Dependents'],1/5)\n",
    "# skewness reduced to 0.43\n",
    "\n",
    "xs_sk=stdc(x_sk)"
   ]
  },
  {
   "cell_type": "markdown",
   "metadata": {},
   "source": [
    "# GradientBoosting"
   ]
  },
  {
   "cell_type": "code",
   "execution_count": 8,
   "metadata": {},
   "outputs": [],
   "source": [
    "# GB with x 0.9050925925925926, 0.7931034482758621"
   ]
  },
  {
   "cell_type": "code",
   "execution_count": 9,
   "metadata": {},
   "outputs": [],
   "source": [
    "# Individual Model Pipeline:\n",
    "# 1. feature selection\n",
    "# 2. Hyper parameter tuning\n",
    "# 3. Boosting\n",
    "# 4. Cross Validation\n",
    "# 5. Evaluation Metrics"
   ]
  },
  {
   "cell_type": "code",
   "execution_count": 10,
   "metadata": {},
   "outputs": [
    {
     "name": "stdout",
     "output_type": "stream",
     "text": [
      "7   0.7931034482758621\n",
      "8   0.8068965517241379\n",
      "9   0.7931034482758621\n",
      "10   0.8\n",
      "11   0.7931034482758621\n"
     ]
    }
   ],
   "source": [
    "# lets apply BFE\n",
    "for i in range(7,12):\n",
    "    print(i,\" \",modified_bfec(gbc,x,y,i))"
   ]
  },
  {
   "cell_type": "code",
   "execution_count": 11,
   "metadata": {},
   "outputs": [],
   "source": [
    "# best score at k=8"
   ]
  },
  {
   "cell_type": "code",
   "execution_count": 12,
   "metadata": {},
   "outputs": [
    {
     "name": "stdout",
     "output_type": "stream",
     "text": [
      "4   0.6896551724137931\n",
      "5   0.6620689655172414\n",
      "6   0.6896551724137931\n",
      "7   0.6551724137931034\n",
      "8   0.7310344827586207\n",
      "9   0.7862068965517242\n",
      "10   0.7655172413793103\n",
      "11   0.7655172413793103\n"
     ]
    }
   ],
   "source": [
    "# PCA\n",
    "# take n from 8 to 12\n",
    "for i in range(4,12):\n",
    "        print(i,\" \",modified_pcac(gbc,x,y,i))"
   ]
  },
  {
   "cell_type": "code",
   "execution_count": 13,
   "metadata": {},
   "outputs": [
    {
     "data": {
      "text/html": [
       "<div>\n",
       "<style scoped>\n",
       "    .dataframe tbody tr th:only-of-type {\n",
       "        vertical-align: middle;\n",
       "    }\n",
       "\n",
       "    .dataframe tbody tr th {\n",
       "        vertical-align: top;\n",
       "    }\n",
       "\n",
       "    .dataframe thead th {\n",
       "        text-align: right;\n",
       "    }\n",
       "</style>\n",
       "<table border=\"1\" class=\"dataframe\">\n",
       "  <thead>\n",
       "    <tr style=\"text-align: right;\">\n",
       "      <th></th>\n",
       "      <th>Married</th>\n",
       "      <th>Dependents</th>\n",
       "      <th>Self_Employed</th>\n",
       "      <th>ApplicantIncome</th>\n",
       "      <th>CoapplicantIncome</th>\n",
       "      <th>Loan_Amount_Term</th>\n",
       "      <th>Credit_History</th>\n",
       "      <th>Property_Area</th>\n",
       "    </tr>\n",
       "  </thead>\n",
       "  <tbody>\n",
       "    <tr>\n",
       "      <td>0</td>\n",
       "      <td>0</td>\n",
       "      <td>0</td>\n",
       "      <td>0</td>\n",
       "      <td>5849</td>\n",
       "      <td>0.0</td>\n",
       "      <td>360.0</td>\n",
       "      <td>1.0</td>\n",
       "      <td>2</td>\n",
       "    </tr>\n",
       "    <tr>\n",
       "      <td>1</td>\n",
       "      <td>1</td>\n",
       "      <td>1</td>\n",
       "      <td>0</td>\n",
       "      <td>4583</td>\n",
       "      <td>1508.0</td>\n",
       "      <td>360.0</td>\n",
       "      <td>1.0</td>\n",
       "      <td>0</td>\n",
       "    </tr>\n",
       "    <tr>\n",
       "      <td>2</td>\n",
       "      <td>1</td>\n",
       "      <td>0</td>\n",
       "      <td>1</td>\n",
       "      <td>3000</td>\n",
       "      <td>0.0</td>\n",
       "      <td>360.0</td>\n",
       "      <td>1.0</td>\n",
       "      <td>2</td>\n",
       "    </tr>\n",
       "    <tr>\n",
       "      <td>3</td>\n",
       "      <td>1</td>\n",
       "      <td>0</td>\n",
       "      <td>0</td>\n",
       "      <td>2583</td>\n",
       "      <td>2358.0</td>\n",
       "      <td>360.0</td>\n",
       "      <td>1.0</td>\n",
       "      <td>2</td>\n",
       "    </tr>\n",
       "    <tr>\n",
       "      <td>4</td>\n",
       "      <td>0</td>\n",
       "      <td>0</td>\n",
       "      <td>0</td>\n",
       "      <td>6000</td>\n",
       "      <td>0.0</td>\n",
       "      <td>360.0</td>\n",
       "      <td>1.0</td>\n",
       "      <td>2</td>\n",
       "    </tr>\n",
       "  </tbody>\n",
       "</table>\n",
       "</div>"
      ],
      "text/plain": [
       "   Married  Dependents  Self_Employed  ApplicantIncome  CoapplicantIncome  Loan_Amount_Term  Credit_History  Property_Area\n",
       "0        0           0              0             5849                0.0             360.0             1.0              2\n",
       "1        1           1              0             4583             1508.0             360.0             1.0              0\n",
       "2        1           0              1             3000                0.0             360.0             1.0              2\n",
       "3        1           0              0             2583             2358.0             360.0             1.0              2\n",
       "4        0           0              0             6000                0.0             360.0             1.0              2"
      ]
     },
     "execution_count": 13,
     "metadata": {},
     "output_type": "execute_result"
    }
   ],
   "source": [
    "# we'll use bfe at k=8\n",
    "xbfe1=bfec(gbc,x,y,8)\n",
    "xbfe1.head()"
   ]
  },
  {
   "cell_type": "code",
   "execution_count": 14,
   "metadata": {},
   "outputs": [
    {
     "data": {
      "text/plain": [
       "(0.9027777777777778, 0.8068965517241379)"
      ]
     },
     "execution_count": 14,
     "metadata": {},
     "output_type": "execute_result"
    }
   ],
   "source": [
    "get_scorec(gbc,xbfe1,y)"
   ]
  },
  {
   "cell_type": "code",
   "execution_count": 15,
   "metadata": {},
   "outputs": [],
   "source": [
    "# the model is over fitting"
   ]
  },
  {
   "cell_type": "code",
   "execution_count": 16,
   "metadata": {},
   "outputs": [],
   "source": [
    "# lets tune it"
   ]
  },
  {
   "cell_type": "code",
   "execution_count": 17,
   "metadata": {},
   "outputs": [],
   "source": [
    "# gbc=GradientBoostingClassifier(random_state=45)"
   ]
  },
  {
   "cell_type": "code",
   "execution_count": 18,
   "metadata": {},
   "outputs": [],
   "source": [
    "GradientBoostingClassifier?"
   ]
  },
  {
   "cell_type": "code",
   "execution_count": 21,
   "metadata": {},
   "outputs": [
    {
     "name": "stdout",
     "output_type": "stream",
     "text": [
      "Fitting 5 folds for each of 6 candidates, totalling 30 fits\n"
     ]
    },
    {
     "name": "stderr",
     "output_type": "stream",
     "text": [
      "[Parallel(n_jobs=-1)]: Using backend LokyBackend with 4 concurrent workers.\n",
      "[Parallel(n_jobs=-1)]: Done  10 tasks      | elapsed:    0.5s\n",
      "[Parallel(n_jobs=-1)]: Done  30 out of  30 | elapsed:    1.1s remaining:    0.0s\n",
      "[Parallel(n_jobs=-1)]: Done  30 out of  30 | elapsed:    1.1s finished\n",
      "C:\\Users\\dell\\Anaconda3\\lib\\site-packages\\sklearn\\model_selection\\_search.py:814: DeprecationWarning: The default of the `iid` parameter will change from True to False in version 0.22 and will be removed in 0.24. This will change numeric results when test-set sizes are unequal.\n",
      "  DeprecationWarning)\n"
     ]
    },
    {
     "data": {
      "text/plain": [
       "{'max_features': 'sqrt', 'loss': 'exponential'}"
      ]
     },
     "execution_count": 21,
     "metadata": {},
     "output_type": "execute_result"
    }
   ],
   "source": [
    "param_gbc={'loss':['deviance', 'exponential'],'max_features':['auto','sqrt','log2']}\n",
    "randomcvc(gbc,param_gbc,xbfe1,y)"
   ]
  },
  {
   "cell_type": "code",
   "execution_count": 22,
   "metadata": {},
   "outputs": [],
   "source": [
    "gbc1=GradientBoostingClassifier(random_state=45,loss= 'exponential',max_features= 'sqrt')"
   ]
  },
  {
   "cell_type": "code",
   "execution_count": 23,
   "metadata": {},
   "outputs": [
    {
     "name": "stdout",
     "output_type": "stream",
     "text": [
      "Fitting 5 folds for each of 75 candidates, totalling 375 fits\n"
     ]
    },
    {
     "name": "stderr",
     "output_type": "stream",
     "text": [
      "[Parallel(n_jobs=-1)]: Using backend LokyBackend with 4 concurrent workers.\n",
      "[Parallel(n_jobs=-1)]: Done  12 tasks      | elapsed:    0.4s\n",
      "[Parallel(n_jobs=-1)]: Done 120 tasks      | elapsed:    3.5s\n",
      "[Parallel(n_jobs=-1)]: Done 300 tasks      | elapsed:    8.3s\n",
      "[Parallel(n_jobs=-1)]: Done 368 out of 375 | elapsed:    9.7s remaining:    0.1s\n",
      "[Parallel(n_jobs=-1)]: Done 375 out of 375 | elapsed:    9.9s finished\n",
      "C:\\Users\\dell\\Anaconda3\\lib\\site-packages\\sklearn\\model_selection\\_search.py:814: DeprecationWarning: The default of the `iid` parameter will change from True to False in version 0.22 and will be removed in 0.24. This will change numeric results when test-set sizes are unequal.\n",
      "  DeprecationWarning)\n"
     ]
    },
    {
     "data": {
      "text/plain": [
       "{'min_weight_fraction_leaf': 0.0,\n",
       " 'min_samples_split': 4,\n",
       " 'min_samples_leaf': 1,\n",
       " 'max_depth': 4,\n",
       " 'learning_rate': 0.01}"
      ]
     },
     "execution_count": 23,
     "metadata": {},
     "output_type": "execute_result"
    }
   ],
   "source": [
    "param_gbc1={'learning_rate':[0.01,0.1,0.5,1],'min_samples_split':[2,4,8,12],'min_samples_leaf':[1,2,4,8],\n",
    "           'min_weight_fraction_leaf':[0.0,0.2,0.4],'max_depth':[2,3,4,6]}\n",
    "randomcvc(gbc1,param_gbc1,xbfe1,y)"
   ]
  },
  {
   "cell_type": "code",
   "execution_count": 24,
   "metadata": {},
   "outputs": [
    {
     "name": "stdout",
     "output_type": "stream",
     "text": [
      "Fitting 5 folds for each of 75 candidates, totalling 375 fits\n"
     ]
    },
    {
     "name": "stderr",
     "output_type": "stream",
     "text": [
      "[Parallel(n_jobs=-1)]: Using backend LokyBackend with 4 concurrent workers.\n",
      "[Parallel(n_jobs=-1)]: Done  12 tasks      | elapsed:    0.3s\n",
      "[Parallel(n_jobs=-1)]: Done 120 tasks      | elapsed:    5.6s\n",
      "[Parallel(n_jobs=-1)]: Done 300 tasks      | elapsed:   14.0s\n",
      "[Parallel(n_jobs=-1)]: Done 368 out of 375 | elapsed:   16.8s remaining:    0.2s\n",
      "[Parallel(n_jobs=-1)]: Done 375 out of 375 | elapsed:   17.5s finished\n"
     ]
    },
    {
     "data": {
      "text/plain": [
       "{'min_weight_fraction_leaf': 0.1,\n",
       " 'min_samples_split': 2,\n",
       " 'min_samples_leaf': 1,\n",
       " 'max_depth': 6,\n",
       " 'learning_rate': 0.04}"
      ]
     },
     "execution_count": 24,
     "metadata": {},
     "output_type": "execute_result"
    }
   ],
   "source": [
    "param_gbc2={'learning_rate':[0.01,0.02,0.04],'min_samples_split':[2,3,4,5,6],'min_samples_leaf':[1,2,3,4],\n",
    "           'min_weight_fraction_leaf':[0.0,0.1,0.2],'max_depth':[4,5,6,7]}\n",
    "randomcvc(gbc1,param_gbc2,xbfe1,y)"
   ]
  },
  {
   "cell_type": "code",
   "execution_count": 26,
   "metadata": {},
   "outputs": [
    {
     "data": {
      "text/plain": [
       "(0.8194444444444444, 0.8137931034482758)"
      ]
     },
     "execution_count": 26,
     "metadata": {},
     "output_type": "execute_result"
    }
   ],
   "source": [
    "gbc2=GradientBoostingClassifier(random_state=45,loss= 'exponential',max_features= 'sqrt',min_weight_fraction_leaf= 0.1,\n",
    " min_samples_split= 2,\n",
    " min_samples_leaf= 1,\n",
    " max_depth= 6,\n",
    " learning_rate= 0.04)\n",
    "get_scorec(gbc2,xbfe1,y)"
   ]
  },
  {
   "cell_type": "code",
   "execution_count": 27,
   "metadata": {},
   "outputs": [],
   "source": [
    "# score improved a little\n",
    "# also, the model does not overfit"
   ]
  },
  {
   "cell_type": "code",
   "execution_count": 33,
   "metadata": {},
   "outputs": [
    {
     "data": {
      "text/plain": [
       "(0.8194444444444444, 0.8137931034482758)"
      ]
     },
     "execution_count": 33,
     "metadata": {},
     "output_type": "execute_result"
    }
   ],
   "source": [
    "# lets boost gbc2,xbfe1,y\n",
    "adagbc=AdaBoostClassifier(random_state=45,base_estimator=gbc2,n_estimators=50,learning_rate=0.01)\n",
    "get_scorec(adagbc,xbfe1,y)"
   ]
  },
  {
   "cell_type": "code",
   "execution_count": 34,
   "metadata": {},
   "outputs": [],
   "source": [
    "# the score is same"
   ]
  },
  {
   "cell_type": "code",
   "execution_count": 35,
   "metadata": {},
   "outputs": [
    {
     "name": "stdout",
     "output_type": "stream",
     "text": [
      "2   (0.8180627643214149, 0.022215013456362953)\n",
      "3   (0.8181283852824421, 0.021658092211660564)\n",
      "4   (0.8181476569407604, 0.025210366667474934)\n",
      "5   (0.8181811725716088, 0.029053552755050584)\n",
      "6   (0.8181147133297161, 0.03052825863543639)\n",
      "7   (0.8182638930998224, 0.036665695607728775)\n",
      "8   (0.8182405888910327, 0.039192242492883944)\n",
      "9   (0.8181297483380816, 0.03867307550673175)\n",
      "10   (0.8182017543859649, 0.034920966201780826)\n",
      "11   (0.8180926341303699, 0.037256518428866084)\n",
      "12   (0.8180166570174169, 0.036189776984258654)\n"
     ]
    }
   ],
   "source": [
    "# lets cross validate gbc2,xbfe1,y\n",
    "for i in range(2,13):\n",
    "    print(i,\" \",crossc(gbc2,xbfe1,y,i))"
   ]
  },
  {
   "cell_type": "code",
   "execution_count": 36,
   "metadata": {},
   "outputs": [],
   "source": [
    "# the score is best at cv=3"
   ]
  },
  {
   "cell_type": "code",
   "execution_count": 38,
   "metadata": {},
   "outputs": [],
   "source": [
    "# lets predict the score\n",
    "crosspred=cross_val_predict(gbc2,xbfe1,y,cv=3,n_jobs=-1)"
   ]
  },
  {
   "cell_type": "code",
   "execution_count": 39,
   "metadata": {},
   "outputs": [
    {
     "name": "stdout",
     "output_type": "stream",
     "text": [
      "0.8180242634315424\n",
      " \n",
      "[[ 80  99]\n",
      " [  6 392]]\n",
      " \n",
      "              precision    recall  f1-score   support\n",
      "\n",
      "           0       0.93      0.45      0.60       179\n",
      "           1       0.80      0.98      0.88       398\n",
      "\n",
      "    accuracy                           0.82       577\n",
      "   macro avg       0.86      0.72      0.74       577\n",
      "weighted avg       0.84      0.82      0.80       577\n",
      "\n"
     ]
    }
   ],
   "source": [
    "# metrics\n",
    "classi=classification_report(y,crosspred)\n",
    "conf=confusion_matrix(y,crosspred)\n",
    "acc=accuracy_score(y,crosspred)\n",
    "print(acc)\n",
    "print(' ')\n",
    "print(conf)\n",
    "print(' ')\n",
    "print(classi)"
   ]
  },
  {
   "cell_type": "code",
   "execution_count": 40,
   "metadata": {},
   "outputs": [
    {
     "name": "stdout",
     "output_type": "stream",
     "text": [
      "0.8137931034482758\n",
      " \n",
      "[[19  1]\n",
      " [26 99]]\n",
      " \n",
      "              precision    recall  f1-score   support\n",
      "\n",
      "           0       0.42      0.95      0.58        20\n",
      "           1       0.99      0.79      0.88       125\n",
      "\n",
      "    accuracy                           0.81       145\n",
      "   macro avg       0.71      0.87      0.73       145\n",
      "weighted avg       0.91      0.81      0.84       145\n",
      "\n"
     ]
    }
   ],
   "source": [
    "# lets check metrics of gbc2,xbfe1,y\n",
    "# Evaluation metrics\n",
    "acc, conf, clas=get_metricsc(gbc2,xbfe1,y)\n",
    "print(acc)\n",
    "print(' ')\n",
    "print(conf)\n",
    "print(' ')\n",
    "print(clas)"
   ]
  },
  {
   "cell_type": "code",
   "execution_count": 41,
   "metadata": {},
   "outputs": [],
   "source": [
    "# precision of cross validated model is better"
   ]
  },
  {
   "cell_type": "code",
   "execution_count": 42,
   "metadata": {},
   "outputs": [
    {
     "data": {
      "image/png": "[encoded data removed]",
      "text/plain": [
       "<Figure size 432x288 with 1 Axes>"
      ]
     },
     "metadata": {
      "needs_background": "light"
     },
     "output_type": "display_data"
    }
   ],
   "source": [
    "# auc roc\n",
    "xtr,xte,ytr,yte=ttsc(xbfe1,y)\n",
    "gbc2.fit(xtr,ytr)\n",
    "y_pred_pro=gbc2.predict_proba(xte)[:,1]\n",
    "fpr,tpr,threshold=roc_curve(yte,y_pred_pro)\n",
    "plt.plot([0,1], [0,1], 'k--')\n",
    "plt.plot(fpr,tpr,label='LRC')\n",
    "plt.show()"
   ]
  },
  {
   "cell_type": "code",
   "execution_count": 43,
   "metadata": {},
   "outputs": [
    {
     "data": {
      "text/plain": [
       "0.7287777777777777"
      ]
     },
     "execution_count": 43,
     "metadata": {},
     "output_type": "execute_result"
    }
   ],
   "source": [
    "roc_auc_score(yte,y_pred_pro)"
   ]
  },
  {
   "cell_type": "code",
   "execution_count": null,
   "metadata": {},
   "outputs": [],
   "source": []
  },
  {
   "cell_type": "code",
   "execution_count": 44,
   "metadata": {},
   "outputs": [],
   "source": [
    "# now, we'll compare all the models and the best model will be sent for deployment"
   ]
  },
  {
   "cell_type": "code",
   "execution_count": 45,
   "metadata": {},
   "outputs": [],
   "source": [
    "# here , precision is important, coz we want to reduce false positive"
   ]
  },
  {
   "cell_type": "code",
   "execution_count": 46,
   "metadata": {},
   "outputs": [],
   "source": [
    "# therefore, owing to auc_roc store, precision and f1_score, GradientBoosting is the best model."
   ]
  },
  {
   "cell_type": "code",
   "execution_count": 47,
   "metadata": {},
   "outputs": [],
   "source": [
    "# saving the cross valiated gbc model"
   ]
  },
  {
   "cell_type": "code",
   "execution_count": 48,
   "metadata": {},
   "outputs": [
    {
     "name": "stdout",
     "output_type": "stream",
     "text": [
      "(GradientBoostingClassifier(criterion='friedman_mse', init=None,\n",
      "                           learning_rate=0.04, loss='exponential', max_depth=6,\n",
      "                           max_features='sqrt', max_leaf_nodes=None,\n",
      "                           min_impurity_decrease=0.0, min_impurity_split=None,\n",
      "                           min_samples_leaf=1, min_samples_split=2,\n",
      "                           min_weight_fraction_leaf=0.1, n_estimators=100,\n",
      "                           n_iter_no_change=None, presort='auto',\n",
      "                           random_state=45, subsample=1.0, tol=0.0001,\n",
      "                           validation_fraction=0.1, verbose=0,\n",
      "                           warm_start=False), GradientBoostingClassifier(criterion='friedman_mse', init=None,\n",
      "                           learning_rate=0.04, loss='exponential', max_depth=6,\n",
      "                           max_features='sqrt', max_leaf_nodes=None,\n",
      "                           min_impurity_decrease=0.0, min_impurity_split=None,\n",
      "                           min_samples_leaf=1, min_samples_split=2,\n",
      "                           min_weight_fraction_leaf=0.1, n_estimators=100,\n",
      "                           n_iter_no_change=None, presort='auto',\n",
      "                           random_state=45, subsample=1.0, tol=0.0001,\n",
      "                           validation_fraction=0.1, verbose=0,\n",
      "                           warm_start=False), GradientBoostingClassifier(criterion='friedman_mse', init=None,\n",
      "                           learning_rate=0.04, loss='exponential', max_depth=6,\n",
      "                           max_features='sqrt', max_leaf_nodes=None,\n",
      "                           min_impurity_decrease=0.0, min_impurity_split=None,\n",
      "                           min_samples_leaf=1, min_samples_split=2,\n",
      "                           min_weight_fraction_leaf=0.1, n_estimators=100,\n",
      "                           n_iter_no_change=None, presort='auto',\n",
      "                           random_state=45, subsample=1.0, tol=0.0001,\n",
      "                           validation_fraction=0.1, verbose=0,\n",
      "                           warm_start=False))\n"
     ]
    }
   ],
   "source": [
    "cv_results = cross_validate(gbc2, xbfe1 ,y, cv=3, return_estimator=True)\n",
    "gbc_fit = cv_results['estimator']\n",
    "print(gbc_fit)"
   ]
  },
  {
   "cell_type": "code",
   "execution_count": 49,
   "metadata": {},
   "outputs": [],
   "source": [
    "gbc_fit=gbc_fit[0]"
   ]
  },
  {
   "cell_type": "code",
   "execution_count": 50,
   "metadata": {},
   "outputs": [
    {
     "data": {
      "text/plain": [
       "['gbc_loan.pkl']"
      ]
     },
     "execution_count": 50,
     "metadata": {},
     "output_type": "execute_result"
    }
   ],
   "source": [
    "import joblib\n",
    "joblib.dump(gbc_fit,'gbc_loan.pkl')"
   ]
  },
  {
   "cell_type": "code",
   "execution_count": 51,
   "metadata": {},
   "outputs": [],
   "source": [
    "# saving predictions\n",
    "prediction=pd.DataFrame(crosspred)\n",
    "prediction.to_csv('pred_gbc_loan.csv')"
   ]
  },
  {
   "cell_type": "code",
   "execution_count": null,
   "metadata": {},
   "outputs": [],
   "source": []
  }
 ],
 "metadata": {
  "kernelspec": {
   "display_name": "Python 3",
   "language": "python",
   "name": "python3"
  },
  "language_info": {
   "codemirror_mode": {
    "name": "ipython",
    "version": 3
   },
   "file_extension": ".py",
   "mimetype": "text/x-python",
   "name": "python",
   "nbconvert_exporter": "python",
   "pygments_lexer": "ipython3",
   "version": "3.7.4"
  }
 },
 "nbformat": 4,
 "nbformat_minor": 2
}
