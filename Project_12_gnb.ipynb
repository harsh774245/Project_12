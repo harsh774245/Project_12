{
 "cells": [
  {
   "cell_type": "code",
   "execution_count": 1,
   "metadata": {},
   "outputs": [],
   "source": [
    "import numpy as np\n",
    "import pandas as pd\n",
    "import seaborn as sns \n",
    "import matplotlib.pyplot as plt\n",
    "%matplotlib inline\n",
    "import scipy.stats as st\n",
    "import pyforest\n",
    "import warnings\n",
    "warnings.filterwarnings('ignore')\n",
    "pd.set_option('display.max_rows', 1000)\n",
    "pd.set_option('display.max_columns', 100)\n",
    "pd.set_option('display.width',1000)"
   ]
  },
  {
   "cell_type": "code",
   "execution_count": 2,
   "metadata": {},
   "outputs": [],
   "source": [
    "loan=pd.read_csv('loan.csv')\n",
    "loan1=loan.copy()\n",
    "# impute gender with most freq category\n",
    "loan1['Gender']=loan1['Gender'].fillna('Male')\n",
    "# impute gender with most freq category\n",
    "loan1['Dependents']=loan1['Dependents'].fillna('0')\n",
    "# impute gender with most freq category\n",
    "loan1['Self_Employed']=loan1['Self_Employed'].fillna('No')\n",
    "# as the distribution is skewed, we'll do for median imputation\n",
    "loan1['LoanAmount']=loan1['LoanAmount'].fillna(loan1['LoanAmount'].median())\n",
    "# we'll do for mean imputation\n",
    "loan1['Loan_Amount_Term']=loan1['Loan_Amount_Term'].fillna(loan1['Loan_Amount_Term'].mean())\n",
    "# impute gender with most freq category\n",
    "loan1['Credit_History']=loan1['Credit_History'].fillna(1.0)\n",
    "# impute gender with most freq category\n",
    "loan1['Married']=loan1['Married'].fillna('Yes')\n",
    "# drop loanid\n",
    "loan1.drop('Loan_ID',axis=1,inplace=True)"
   ]
  },
  {
   "cell_type": "code",
   "execution_count": 3,
   "metadata": {},
   "outputs": [],
   "source": [
    "from sklearn.preprocessing import LabelEncoder\n",
    "def le(df,col):\n",
    "    lab=LabelEncoder()\n",
    "    df[col]=pd.Series(lab.fit_transform(df[col]))"
   ]
  },
  {
   "cell_type": "code",
   "execution_count": 4,
   "metadata": {},
   "outputs": [],
   "source": [
    "le(loan1,'Gender')\n",
    "le(loan1,'Married')\n",
    "le(loan1,'Dependents')\n",
    "le(loan1,'Education')\n",
    "le(loan1,'Self_Employed')\n",
    "le(loan1,'Property_Area')\n",
    "le(loan1,'Loan_Status')"
   ]
  },
  {
   "cell_type": "code",
   "execution_count": 5,
   "metadata": {},
   "outputs": [],
   "source": [
    "from scipy.stats import zscore\n",
    "z=np.abs(zscore(loan1))\n",
    "loan1=loan1[(z<3).all(axis=1)]\n",
    "\n",
    "x=loan1.drop('Loan_Status',axis=1)\n",
    "y=loan1['Loan_Status']"
   ]
  },
  {
   "cell_type": "code",
   "execution_count": 6,
   "metadata": {},
   "outputs": [],
   "source": [
    "from sklearn.linear_model import LogisticRegression\n",
    "from sklearn.tree import DecisionTreeClassifier\n",
    "from sklearn.svm import SVC\n",
    "from sklearn.neighbors import KNeighborsClassifier\n",
    "from sklearn.naive_bayes import GaussianNB, MultinomialNB\n",
    "from sklearn.model_selection import train_test_split\n",
    "from sklearn.metrics import accuracy_score, confusion_matrix, classification_report\n",
    "from sklearn.ensemble import RandomForestClassifier\n",
    "from sklearn.ensemble import GradientBoostingClassifier\n",
    "from xgboost import XGBClassifier\n",
    "from sklearn.ensemble import AdaBoostClassifier\n",
    "from sklearn.model_selection import cross_val_score,cross_val_predict,cross_validate\n",
    "from sklearn.metrics import roc_curve, roc_auc_score\n",
    "\n",
    "# Now, let's define some functions to reuse them\n",
    "def fitc(m,x,y,rs=45):\n",
    "    x_train, x_test, y_train, y_test=train_test_split(x,y,test_size=0.25,random_state=rs,stratify=y)\n",
    "    m.fit(x_train,y_train)\n",
    "    \n",
    "def get_scorec(m,x,y,rs=45):\n",
    "    x_train, x_test, y_train, y_test=train_test_split(x,y,test_size=0.25,random_state=rs,stratify=y)\n",
    "    m.fit(x_train,y_train)\n",
    "    train_score=m.score(x_train,y_train)\n",
    "    pred=m.predict(x_test)\n",
    "    test_score=accuracy_score(pred,y_test)\n",
    "    return train_score,test_score\n",
    "\n",
    "def get_predc(m,x,y,rs=45):\n",
    "    x_train, x_test, y_train, y_test=train_test_split(x,y,test_size=0.25,random_state=rs,stratify=y)\n",
    "    m.fit(x_train,y_train)\n",
    "    pred=m.predict(x_test)\n",
    "    return pred\n",
    "\n",
    "def get_metricsc(m,x,y,rs=45):\n",
    "    x_train, x_test, y_train, y_test=train_test_split(x,y,test_size=0.25,random_state=rs,stratify=y)\n",
    "    m.fit(x_train,y_train)\n",
    "    pred=m.predict(x_test)\n",
    "    acc=accuracy_score(pred,y_test)\n",
    "    conf=confusion_matrix(pred,y_test)\n",
    "    clas=classification_report(pred,y_test)\n",
    "    return acc,conf,clas\n",
    "\n",
    "from sklearn.model_selection import GridSearchCV\n",
    "def gridcvc(m,p,x,y):\n",
    "    gkb=GridSearchCV(m,p,n_jobs=-1,cv=5,scoring='accuracy')\n",
    "    gkb.fit(x,y)\n",
    "    return gkb.best_params_\n",
    "\n",
    "\n",
    "from sklearn.model_selection import RandomizedSearchCV\n",
    "def randomcvc(m,p,x,y):\n",
    "    from sklearn.model_selection import RandomizedSearchCV\n",
    "    gkb=RandomizedSearchCV(estimator=m,param_distributions=p,\n",
    "                          cv=5,n_iter=75,\n",
    "                          n_jobs=-1, verbose=5,return_train_score=True,random_state=45)\n",
    "    gkb.fit(x,y)\n",
    "    return gkb.best_params_\n",
    "\n",
    "from mlxtend.feature_selection import SequentialFeatureSelector as sfs\n",
    "def bfec(m,x,y,k):\n",
    "    sf=sfs(m, k_features=k, forward=False, cv=5, n_jobs=-1)\n",
    "    sf.fit(x,y)\n",
    "    feat_names=list(sf.k_feature_names_)\n",
    "    xbfe=x[feat_names]\n",
    "    return xbfe\n",
    "\n",
    "def ffsc(m,x,y,k):\n",
    "    sf=sfs(m, k_features=k, forward=True, cv=5, n_jobs=-1)\n",
    "    sf.fit(x,y)\n",
    "    feat_names=list(sf.k_feature_names_)\n",
    "    xffs=x[feat_names]\n",
    "    return xffs\n",
    "\n",
    "from sklearn.decomposition import PCA\n",
    "def nforpcac(x):\n",
    "    pca=PCA().fit(x)\n",
    "    plt.figure()\n",
    "    plt.plot(np.cumsum(pca.explained_variance_ratio_)*100)\n",
    "    plt.xlabel('No of Components')\n",
    "    plt.ylabel('Variance')\n",
    "    plt.axhline(y=95, color='r', linestyle='--')\n",
    "    plt.show()\n",
    "    \n",
    "def pcac(m,x,n):\n",
    "    pca=PCA(n_components=n)\n",
    "    xpca=pd.DataFrame(pca.fit_transform(x))\n",
    "    return xpca\n",
    "\n",
    "def crossc(m,x,y,c=5):\n",
    "    score=cross_val_score(m,x,y,cv=c,n_jobs=-1)\n",
    "    return (score.mean(), score.std())\n",
    "\n",
    "from sklearn.preprocessing import StandardScaler\n",
    "def stdc(x):\n",
    "    scx=StandardScaler()\n",
    "    xs=pd.DataFrame(scx.fit_transform(x), columns=x.columns)\n",
    "    return xs\n",
    "\n",
    "from sklearn.preprocessing import MinMaxScaler\n",
    "def mmc(x):\n",
    "    mm=MinMaxScaler()\n",
    "    xm=pd.DataFrame(mm.fit_transform(x), columns=x.columns)\n",
    "    return xm\n",
    "\n",
    "def modified_bfec(m,x,y,k):\n",
    "    sf=sfs(m, k_features=k, forward=False, cv=5, n_jobs=-1)\n",
    "    sf.fit(x,y)\n",
    "    feat_names=list(sf.k_feature_names_)\n",
    "    xbfe=x[feat_names]\n",
    "    x_train, x_test, y_train, y_test=train_test_split(xbfe,y,test_size=0.25,random_state=45,stratify=y)\n",
    "    m.fit(x_train,y_train)\n",
    "    pred=m.predict(x_test)\n",
    "    test_score=accuracy_score(pred,y_test)\n",
    "    return test_score\n",
    "\n",
    "def modified_ffsc(m,x,y,k):\n",
    "    sf=sfs(m, k_features=k, forward=True, cv=5, n_jobs=-1)\n",
    "    sf.fit(x,y)\n",
    "    feat_names=list(sf.k_feature_names_)\n",
    "    xffs=x[feat_names]\n",
    "    x_train, x_test, y_train, y_test=train_test_split(xffs,y,test_size=0.25,random_state=45,stratify=y)\n",
    "    m.fit(x_train,y_train)\n",
    "    pred=m.predict(x_test)\n",
    "    test_score=accuracy_score(pred,y_test)\n",
    "    return test_score\n",
    "\n",
    "def modified_pcac(m,x,y,n):\n",
    "    pca=PCA(n_components=n)\n",
    "    xpca=pd.DataFrame(pca.fit_transform(x))\n",
    "    x_train, x_test, y_train, y_test=train_test_split(xpca,y,test_size=0.25,random_state=45,stratify=y)\n",
    "    m.fit(x_train,y_train)\n",
    "    pred=m.predict(x_test)\n",
    "    test_score=accuracy_score(pred,y_test)\n",
    "    return test_score\n",
    "\n",
    "def ttsc(x,y,rs=45):\n",
    "    x_train, x_test, y_train, y_test=train_test_split(x,y,test_size=0.25,random_state=rs,stratify=y)\n",
    "    return x_train, x_test, y_train, y_test\n",
    "\n",
    "def classification(m,x,y,rs=45):\n",
    "    x_train, x_test, y_train, y_test=train_test_split(x,y,test_size=0.25,random_state=rs,stratify=y)\n",
    "    m.fit(x_train,y_train)\n",
    "    pred=m.predict(x_test)\n",
    "    clas=classification_report(pred,y_test)\n",
    "    return clas\n",
    "\n",
    "lrc=LogisticRegression(n_jobs=-1,random_state=45)\n",
    "dtc=DecisionTreeClassifier(random_state=45)\n",
    "svc=SVC(random_state=45)\n",
    "knnc=KNeighborsClassifier(n_jobs=-1)\n",
    "rfc=RandomForestClassifier(n_jobs=-1,random_state=45)\n",
    "gbc=GradientBoostingClassifier(random_state=45)\n",
    "xgbc=XGBClassifier(n_jobs=-1,random_state=45)\n",
    "adac=AdaBoostClassifier(random_state=45)\n",
    "gnb=GaussianNB()\n",
    "mnb=MultinomialNB()"
   ]
  },
  {
   "cell_type": "code",
   "execution_count": 7,
   "metadata": {},
   "outputs": [],
   "source": [
    "xs=stdc(x)\n",
    "x_sk=x.copy()\n",
    "\n",
    "# x_sk['ApplicantIncome'].min(), x_sk['ApplicantIncome'].max()\n",
    "x_sk['ApplicantIncome']=np.log(x_sk['ApplicantIncome'])\n",
    "# skewness reduced to -0.20\n",
    "# x_sk['CoapplicantIncome'].min(), x_sk['CoapplicantIncome'].max()\n",
    "x_sk['CoapplicantIncome']=np.cbrt(x_sk['CoapplicantIncome'])\n",
    "# skewness reduced to -0.03\n",
    "# x_sk['LoanAmount'].min(), x_sk['LoanAmount'].max()\n",
    "x_sk['LoanAmount']=np.cbrt(x_sk['LoanAmount'])\n",
    "# skewness reduced to 0.05\n",
    "# x_sk['Loan_Amount_Term'].min(), x_sk['Loan_Amount_Term'].max()\n",
    "x_sk['Loan_Amount_Term']=np.power(x_sk['Loan_Amount_Term'],2.5)\n",
    "# skewness reduced to 0.05\n",
    "# x_sk['Dependents'].min(), x_sk['Dependents'].max()\n",
    "x_sk['Dependents']=np.power(x_sk['Dependents'],1/5)\n",
    "# skewness reduced to 0.43\n",
    "\n",
    "xs_sk=stdc(x_sk)"
   ]
  },
  {
   "cell_type": "markdown",
   "metadata": {},
   "source": [
    "# GNB"
   ]
  },
  {
   "cell_type": "code",
   "execution_count": 8,
   "metadata": {},
   "outputs": [],
   "source": [
    "# GNB with xs_sk 0.8171296296296297, 0.8"
   ]
  },
  {
   "cell_type": "code",
   "execution_count": 9,
   "metadata": {},
   "outputs": [],
   "source": [
    "# gnb=GaussianNB()"
   ]
  },
  {
   "cell_type": "code",
   "execution_count": 10,
   "metadata": {},
   "outputs": [],
   "source": [
    "# Individual Model Pipeline:\n",
    "# 1. feature selection\n",
    "# 2. Hyper parameter tuning\n",
    "# 3. Boosting\n",
    "# 4. Cross Validation\n",
    "# 5. Evaluation Metrics"
   ]
  },
  {
   "cell_type": "code",
   "execution_count": 11,
   "metadata": {},
   "outputs": [
    {
     "name": "stdout",
     "output_type": "stream",
     "text": [
      "7   0.8068965517241379\n",
      "8   0.8\n",
      "9   0.8068965517241379\n",
      "10   0.8068965517241379\n",
      "11   0.8\n"
     ]
    }
   ],
   "source": [
    "# lets apply BFE\n",
    "# there are 11 features\n",
    "for i in range(7,12):\n",
    "    print(i,\" \",modified_bfec(gnb,xs_sk,y,i))"
   ]
  },
  {
   "cell_type": "code",
   "execution_count": 12,
   "metadata": {},
   "outputs": [],
   "source": [
    "# at k=7, score improved a little"
   ]
  },
  {
   "cell_type": "code",
   "execution_count": 13,
   "metadata": {},
   "outputs": [
    {
     "name": "stdout",
     "output_type": "stream",
     "text": [
      "4   0.6896551724137931\n",
      "5   0.7931034482758621\n",
      "6   0.7793103448275862\n",
      "7   0.7724137931034483\n",
      "8   0.7724137931034483\n",
      "9   0.7448275862068966\n",
      "10   0.7517241379310344\n",
      "11   0.7655172413793103\n"
     ]
    }
   ],
   "source": [
    "# PCA\n",
    "# take n from 8 to 12\n",
    "for i in range(4,12):\n",
    "        print(i,\" \",modified_pcac(gnb,xs_sk,y,i))"
   ]
  },
  {
   "cell_type": "code",
   "execution_count": 14,
   "metadata": {},
   "outputs": [
    {
     "data": {
      "text/html": [
       "<div>\n",
       "<style scoped>\n",
       "    .dataframe tbody tr th:only-of-type {\n",
       "        vertical-align: middle;\n",
       "    }\n",
       "\n",
       "    .dataframe tbody tr th {\n",
       "        vertical-align: top;\n",
       "    }\n",
       "\n",
       "    .dataframe thead th {\n",
       "        text-align: right;\n",
       "    }\n",
       "</style>\n",
       "<table border=\"1\" class=\"dataframe\">\n",
       "  <thead>\n",
       "    <tr style=\"text-align: right;\">\n",
       "      <th></th>\n",
       "      <th>Gender</th>\n",
       "      <th>Dependents</th>\n",
       "      <th>Education</th>\n",
       "      <th>CoapplicantIncome</th>\n",
       "      <th>LoanAmount</th>\n",
       "      <th>Loan_Amount_Term</th>\n",
       "      <th>Credit_History</th>\n",
       "    </tr>\n",
       "  </thead>\n",
       "  <tbody>\n",
       "    <tr>\n",
       "      <td>0</td>\n",
       "      <td>0.477137</td>\n",
       "      <td>-0.815080</td>\n",
       "      <td>-0.541961</td>\n",
       "      <td>-1.093504</td>\n",
       "      <td>-0.000207</td>\n",
       "      <td>0.170743</td>\n",
       "      <td>0.418513</td>\n",
       "    </tr>\n",
       "    <tr>\n",
       "      <td>1</td>\n",
       "      <td>0.477137</td>\n",
       "      <td>1.015323</td>\n",
       "      <td>-0.541961</td>\n",
       "      <td>0.596681</td>\n",
       "      <td>-0.000207</td>\n",
       "      <td>0.170743</td>\n",
       "      <td>0.418513</td>\n",
       "    </tr>\n",
       "    <tr>\n",
       "      <td>2</td>\n",
       "      <td>0.477137</td>\n",
       "      <td>-0.815080</td>\n",
       "      <td>-0.541961</td>\n",
       "      <td>-1.093504</td>\n",
       "      <td>-1.435403</td>\n",
       "      <td>0.170743</td>\n",
       "      <td>0.418513</td>\n",
       "    </tr>\n",
       "    <tr>\n",
       "      <td>3</td>\n",
       "      <td>0.477137</td>\n",
       "      <td>-0.815080</td>\n",
       "      <td>1.845150</td>\n",
       "      <td>0.868268</td>\n",
       "      <td>-0.154386</td>\n",
       "      <td>0.170743</td>\n",
       "      <td>0.418513</td>\n",
       "    </tr>\n",
       "    <tr>\n",
       "      <td>4</td>\n",
       "      <td>0.477137</td>\n",
       "      <td>-0.815080</td>\n",
       "      <td>-0.541961</td>\n",
       "      <td>-1.093504</td>\n",
       "      <td>0.237176</td>\n",
       "      <td>0.170743</td>\n",
       "      <td>0.418513</td>\n",
       "    </tr>\n",
       "  </tbody>\n",
       "</table>\n",
       "</div>"
      ],
      "text/plain": [
       "     Gender  Dependents  Education  CoapplicantIncome  LoanAmount  Loan_Amount_Term  Credit_History\n",
       "0  0.477137   -0.815080  -0.541961          -1.093504   -0.000207          0.170743        0.418513\n",
       "1  0.477137    1.015323  -0.541961           0.596681   -0.000207          0.170743        0.418513\n",
       "2  0.477137   -0.815080  -0.541961          -1.093504   -1.435403          0.170743        0.418513\n",
       "3  0.477137   -0.815080   1.845150           0.868268   -0.154386          0.170743        0.418513\n",
       "4  0.477137   -0.815080  -0.541961          -1.093504    0.237176          0.170743        0.418513"
      ]
     },
     "execution_count": 14,
     "metadata": {},
     "output_type": "execute_result"
    }
   ],
   "source": [
    "# we'll use bfe\n",
    "xs_sk_bfe1=bfec(gnb,xs_sk,y,7)\n",
    "xs_sk_bfe1.head()"
   ]
  },
  {
   "cell_type": "code",
   "execution_count": 15,
   "metadata": {},
   "outputs": [
    {
     "data": {
      "text/plain": [
       "(0.8148148148148148, 0.8068965517241379)"
      ]
     },
     "execution_count": 15,
     "metadata": {},
     "output_type": "execute_result"
    }
   ],
   "source": [
    "get_scorec(gnb,xs_sk_bfe1,y)"
   ]
  },
  {
   "cell_type": "code",
   "execution_count": 16,
   "metadata": {},
   "outputs": [],
   "source": [
    "# lets tune the model"
   ]
  },
  {
   "cell_type": "code",
   "execution_count": 17,
   "metadata": {},
   "outputs": [],
   "source": [
    "GaussianNB?"
   ]
  },
  {
   "cell_type": "code",
   "execution_count": 18,
   "metadata": {},
   "outputs": [],
   "source": [
    "# there are no options available"
   ]
  },
  {
   "cell_type": "code",
   "execution_count": 19,
   "metadata": {},
   "outputs": [],
   "source": [
    "# lets try to boost it"
   ]
  },
  {
   "cell_type": "code",
   "execution_count": 28,
   "metadata": {},
   "outputs": [
    {
     "data": {
      "text/plain": [
       "(0.8263888888888888, 0.8137931034482758)"
      ]
     },
     "execution_count": 28,
     "metadata": {},
     "output_type": "execute_result"
    }
   ],
   "source": [
    "adagnb=AdaBoostClassifier(random_state=45,base_estimator=gnb,n_estimators=300,learning_rate=0.1)\n",
    "get_scorec(adagnb,xs_sk_bfe1,y)"
   ]
  },
  {
   "cell_type": "code",
   "execution_count": 29,
   "metadata": {},
   "outputs": [],
   "source": [
    "# the score improved a little bit"
   ]
  },
  {
   "cell_type": "code",
   "execution_count": 30,
   "metadata": {},
   "outputs": [],
   "source": [
    "# lets cross val adagnb,xs_sk_bfe1,y"
   ]
  },
  {
   "cell_type": "code",
   "execution_count": 31,
   "metadata": {},
   "outputs": [
    {
     "name": "stdout",
     "output_type": "stream",
     "text": [
      "2   (0.8145905420991926, 0.018742791234140743)\n",
      "3   (0.8164012695656891, 0.024827560725598514)\n",
      "4   (0.8198957412319482, 0.03314315986357295)\n",
      "5   (0.8182114206054868, 0.03411283885008954)\n",
      "6   (0.8198694760957377, 0.03784484937158596)\n",
      "7   (0.8165857390071319, 0.04729159303845593)\n",
      "8   (0.8164800255107509, 0.0514340071237084)\n",
      "9   (0.814685931352598, 0.05570535333807699)\n",
      "10   (0.8182644110275689, 0.05107158285206695)\n",
      "11   (0.816344382382118, 0.04755903917467836)\n",
      "12   (0.8163189921358613, 0.05157405148050329)\n"
     ]
    }
   ],
   "source": [
    "for i in range(2,13):\n",
    "    print(i,\" \",crossc(adagnb,xs_sk_bfe1,y,i))"
   ]
  },
  {
   "cell_type": "code",
   "execution_count": 32,
   "metadata": {},
   "outputs": [],
   "source": [
    "# no under fitting or over fitting"
   ]
  },
  {
   "cell_type": "code",
   "execution_count": 33,
   "metadata": {},
   "outputs": [
    {
     "name": "stdout",
     "output_type": "stream",
     "text": [
      "0.8137931034482758\n",
      " \n",
      "[[21  3]\n",
      " [24 97]]\n",
      " \n",
      "              precision    recall  f1-score   support\n",
      "\n",
      "           0       0.47      0.88      0.61        24\n",
      "           1       0.97      0.80      0.88       121\n",
      "\n",
      "    accuracy                           0.81       145\n",
      "   macro avg       0.72      0.84      0.74       145\n",
      "weighted avg       0.89      0.81      0.83       145\n",
      "\n"
     ]
    }
   ],
   "source": [
    "# Evaluation metrics\n",
    "acc, conf, clas=get_metricsc(adagnb,xs_sk_bfe1,y)\n",
    "print(acc)\n",
    "print(' ')\n",
    "print(conf)\n",
    "print(' ')\n",
    "print(clas)"
   ]
  },
  {
   "cell_type": "code",
   "execution_count": 34,
   "metadata": {},
   "outputs": [
    {
     "data": {
      "image/png": "[encoded data removed]",
      "text/plain": [
       "<Figure size 432x288 with 1 Axes>"
      ]
     },
     "metadata": {
      "needs_background": "light"
     },
     "output_type": "display_data"
    }
   ],
   "source": [
    "# auc roc\n",
    "xtr,xte,ytr,yte=ttsc(xs_sk_bfe1,y)\n",
    "adagnb.fit(xtr,ytr)\n",
    "y_pred_pro=adagnb.predict_proba(xte)[:,1]\n",
    "fpr,tpr,threshold=roc_curve(yte,y_pred_pro)\n",
    "plt.plot([0,1], [0,1], 'k--')\n",
    "plt.plot(fpr,tpr,label='LRC')\n",
    "plt.show()"
   ]
  },
  {
   "cell_type": "code",
   "execution_count": 35,
   "metadata": {},
   "outputs": [
    {
     "data": {
      "text/plain": [
       "0.6831111111111111"
      ]
     },
     "execution_count": 35,
     "metadata": {},
     "output_type": "execute_result"
    }
   ],
   "source": [
    "roc_auc_score(yte,y_pred_pro)"
   ]
  },
  {
   "cell_type": "code",
   "execution_count": null,
   "metadata": {},
   "outputs": [],
   "source": []
  }
 ],
 "metadata": {
  "kernelspec": {
   "display_name": "Python 3",
   "language": "python",
   "name": "python3"
  },
  "language_info": {
   "codemirror_mode": {
    "name": "ipython",
    "version": 3
   },
   "file_extension": ".py",
   "mimetype": "text/x-python",
   "name": "python",
   "nbconvert_exporter": "python",
   "pygments_lexer": "ipython3",
   "version": "3.7.4"
  }
 },
 "nbformat": 4,
 "nbformat_minor": 2
}
